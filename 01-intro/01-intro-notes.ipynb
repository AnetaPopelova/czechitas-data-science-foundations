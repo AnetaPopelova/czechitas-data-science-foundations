{
 "cells": [
  {
   "attachments": {},
   "cell_type": "markdown",
   "metadata": {},
   "source": [
    "# 01 | Data Science Introduction \n",
    "\n",
    "Session recording: https://youtu.be/gqK_qOdHUl0"
   ]
  },
  {
   "attachments": {},
   "cell_type": "markdown",
   "metadata": {},
   "source": [
    "Delivering business value depends on your ability to answer clients’ \n",
    "questions with data.\n",
    "\n",
    "- **Decisions:** Successful analytical projects are those that support decision making or automation\n",
    "- **Questions:** Key is to understand what questions need to be answered to make a decision\n",
    "- **Approach:** We choose analytical approach that is most suitable to answer these questions\n",
    "- **Technology:** It is important to pay attention to technology allowing implementation into the decision process\n",
    "- **Implementation:** We ensure, in cooperation with IT, implementation of the solution and take care of the maintenance process"
   ]
  },
  {
   "attachments": {},
   "cell_type": "markdown",
   "metadata": {},
   "source": [
    "Different types of analytics solve different business needs. \n",
    "\n",
    "DESCRIPTIVE ANALYTICS: Interactive visualization are used commonly to present complex data\n",
    "and allow for certain level of user self-service\n",
    "\n",
    "\n",
    "DIAGNOSTIC ANALYTICS: In diagnostic analytics we want to uncover hidden factors that drive\n",
    "certain behavior – for example different countries death tol\n",
    "\n",
    "PREDICTIVE ANALYTICS: Forecasting techniques allow to predict chosen KPI(s) outlook or even\n",
    "probability of customer actions\n",
    "\n",
    "PRESCRIPTIVE ANALYTICS: Prescriptive analytics accounts for constraints when making decisions\n"
   ]
  },
  {
   "attachments": {},
   "cell_type": "markdown",
   "metadata": {},
   "source": [
    "## Data Structures and Terminology"
   ]
  },
  {
   "attachments": {},
   "cell_type": "markdown",
   "metadata": {},
   "source": [
    "- Table = Data\n",
    "- Header = Metadata\n",
    "- Columns = Values\n",
    "- Row = Observation\n",
    "\n",
    "Data Structures\n",
    "- Wide -->  1 OBS = All Employee Information\n",
    "- Long --> 1 OBS = PersonID + Variable"
   ]
  },
  {
   "attachments": {},
   "cell_type": "markdown",
   "metadata": {},
   "source": [
    "### Data Types\n",
    "\n",
    "**Cross-sectional data**\n",
    "\n",
    "- Characterized by individual units - people, companies, countries, ...\n",
    "\n",
    "**Time series**\n",
    "- Data collected at several time points\n",
    "- Stock prices, interest rates, exchange rates, GDP,...\n",
    "- Many different frequencies (hourly, daily, monthly, quarterly,..)\n",
    "\n",
    "**Panel data (longitudinal)**\n",
    "- Combines cross-sectional and time series data\n",
    "- The same individuals (persons, firms, cities, etc.) are observed at several points in time (days, years, ..)\n",
    "\n",
    "**Other data types**\n",
    "- Images \n",
    "- Videos (Video == a sequence of images == a sequence of RGB arrays)\n",
    "- Text (news articles etc)\n",
    "\n"
   ]
  },
  {
   "attachments": {},
   "cell_type": "markdown",
   "metadata": {},
   "source": [
    "\n",
    "### Data Terminology\n",
    "Example: predict income based on person’s age, education, and gender\n",
    "\n",
    "Income is :\n",
    "- Dependent variable\n",
    "- Target\n",
    "\n",
    "Age, Education, and Gender are:\n",
    "- Independent variables\n",
    "- Explanatory variables\n",
    "- Features\n"
   ]
  },
  {
   "attachments": {},
   "cell_type": "markdown",
   "metadata": {},
   "source": [
    "### Column Types\n",
    "\n",
    "- numerical (100, 200)\n",
    "- string/factor (M/F, CZ, SK...)\n",
    "- numerical string"
   ]
  },
  {
   "attachments": {},
   "cell_type": "markdown",
   "metadata": {},
   "source": [
    "**ONE-HOT ENCODING OF NON-NUMERIC DATA**\n",
    "\n",
    "Categorical variables need to be transformed into numeric ones.\n",
    "\n",
    "Usually, one category is dropped (use only male gender here) to avoid \n",
    "multicollinearity"
   ]
  },
  {
   "attachments": {},
   "cell_type": "markdown",
   "metadata": {},
   "source": [
    "## Data Science Problem Types\n",
    "\n",
    "- Hypotheses testing (statistics)\n",
    "    - with cross sectional data\n",
    "    - with panel data\n",
    "- Supervised learning (ML)\n",
    "    - classification\n",
    "    - regression\n",
    "- Unsupervised learning (ML)\n",
    "    - dimensionality reduction\n",
    "    - clustering\n",
    "- Other\n",
    "    - image, video processing\n",
    "    - anomaly detection\n",
    "    - optimizations\n",
    "    - simulations"
   ]
  },
  {
   "attachments": {},
   "cell_type": "markdown",
   "metadata": {},
   "source": [
    "## Hypothesis Testing"
   ]
  },
  {
   "attachments": {},
   "cell_type": "markdown",
   "metadata": {},
   "source": [
    "Assumption to test: Women have smaller income.\n",
    "\n",
    "`mean(Income_F) < mean(Income_M) ?`\n",
    "\n",
    "\n",
    "Methodology: \n",
    "- Calculate `mean(Income_F)` and `mean(Income_M)` in table\n",
    "- Assess Probability for `mean(Income_F) = mean(Income_M)`\n",
    "- `P-value`, if too small conclude: `mean(Income_F) < mean(Income_M)`\n"
   ]
  },
  {
   "attachments": {},
   "cell_type": "markdown",
   "metadata": {},
   "source": [
    "## Unsupervised Learning\n",
    "### Clustering\n",
    "\n",
    "Goal: Identify groups of observation with similar patterns\n",
    "\n",
    "- Labelling unlabelled data\n",
    "- Automatic labelling\n",
    "- Anomaly detection"
   ]
  },
  {
   "attachments": {},
   "cell_type": "markdown",
   "metadata": {},
   "source": [
    "## Supervised Learning\n",
    "\n",
    "- Classification\n",
    "    - credit cefault = a binary variable!\n",
    "\n",
    "- Regression\n",
    "    - eg. sales = a continuous variable\n"
   ]
  },
  {
   "attachments": {},
   "cell_type": "markdown",
   "metadata": {},
   "source": [
    "## Statistics vs. Machine Learning\n",
    "\n",
    "**Statistics**\n",
    "- Look at past trends\n",
    "- Support/Reject your hypothesis\n",
    "- Examine effects of individual factors\n",
    "- Assumptions are important\n",
    "\n",
    "Methods\n",
    "- Linear regression (OLS)\n",
    "- Logistic regression\n",
    "- Panel regressions (Fixed effects, Random effects)\n",
    "- Time Series models\n",
    "\n",
    "**Machine Learning**\n",
    "- Main goal: predict future using \n",
    "past data\n",
    "- Usually no strict assumptions\n",
    "- Often no examination of impacts of individual factors\n",
    "- Maximize accuracy/ precision of prediction (classification)\n",
    "- Minimize errors of prediction (regression)\n",
    "- Use train/test split\n",
    "\n",
    "Methods\n",
    "- Classification:\n",
    "    - Logistic regression\n",
    "    - Decision Trees\n",
    "    - Support Vector Machines etc.\n",
    "- Regression:\n",
    "    - Linear regression (OLS)\n",
    "    - Regression Trees\n",
    "    - Support Vector Regression etc.\n",
    "\n",
    "\n"
   ]
  },
  {
   "attachments": {},
   "cell_type": "markdown",
   "metadata": {},
   "source": [
    "## Model Performance Evaluation"
   ]
  },
  {
   "attachments": {},
   "cell_type": "markdown",
   "metadata": {},
   "source": [
    "**Hypothesis Testing**\n",
    "- $R^2$\n",
    "    - Indicates the percentage of the variance in the dependent variable that the independent variables explain collectively\n",
    "    - 0-100% scale (the higher the better)\n",
    "\n",
    "- p-values:\n",
    "    - Show if we have some good variables in the model that explain well the  \n",
    "dependent variable\n",
    "\n",
    "**Train/test Data Split**\n",
    "- train/test data split - cross-sectional data\n",
    "    - Before we use the model to predict new values, we need to use the already labeled data to find the relationships between variables.\n",
    "    - Use only a part of the data for finding those relationships, i.e., for model training (~60-80%). Keep another part of the data for testing.\n",
    "\n",
    "- train/test data split - time series\n",
    "    - train sample: long enough to catch seasonality, some models might need more data to train than others\n",
    "    - test sample: the size of your forecasting horizon\n",
    "\n",
    "*We want both training and testing model performance to be similarly good.*\n",
    "\n",
    "**Metrics**\n",
    "- regression performance\n",
    "    - compare observed values vs. predicted values\n",
    "    - Root Mean Squared Error (RMSE)\n",
    "        - `RMSE = sqrt((1/n) * Σ(yᵢ - ȳ)²)`\n",
    "        - n is the number of data points.\n",
    "        - yᵢ refers to the observed (actual) values.\n",
    "        - ȳ represents the mean of the observed (actual) values.\n",
    "\n",
    "        - RMSE is a commonly used metric to evaluate the accuracy of a regression model. It measures the average magnitude of the differences between the predicted values and the actual values. The square of the differences is taken to ensure that positive and negative errors do not cancel each other out. Finally, the square root is taken to obtain the RMSE value, which is in the same units as the dependent variable.\n",
    "\n",
    "        - Please note that RMSE is sensitive to outliers and larger errors have a greater impact on the overall value.\n",
    "    - Mean Absolute Percentage Error (MAPE)\n",
    "        - `MAPE = (1/n) * Σ(|(yᵢ - ŷᵢ)/yᵢ|) * 100`\n",
    "        - n is the number of data points.\n",
    "        - yᵢ refers to the observed (actual) values.\n",
    "        - ŷᵢ represents the predicted values.\n",
    "\n",
    "        - MAPE is a commonly used metric to assess the accuracy of a forecasting or prediction model, especially in the context of time series analysis. It calculates the average percentage difference between the predicted values and the actual values. The absolute difference between each pair of values is divided by the actual value, and the result is multiplied by 100 to express the error as a percentage. Finally, the average of these percentage errors is taken to obtain the MAPE value.\n",
    "\n",
    "        - It's important to note that MAPE is not defined when one or more of the actual values (yᵢ) is zero. Additionally, MAPE is not symmetric and can be influenced by extreme values.\n",
    "\n",
    "- classification performance\n",
    "    - Confusion Matrix\n",
    "        - true positive, false positivi, false negatives, true negatives\n",
    "    - Accuracy  = `(TP + TN) / (TP + TN + FP + FN)`\n",
    "        - the proportion of correctly classified instances out of the total number of instances in the dataset\n",
    "    - Precision = `TP / (TP + FP)`\n",
    "        - How many observations predicted as positive are really positive?\n",
    "    - Recall (Sensitivity) = `TP / (TP + FN)`\n",
    "        - How many observations out of all positive observations have we classified as positive?\n",
    "    - other classification metrics\n",
    "        - ROC curve and AUC\n",
    "        - F1 score\n",
    "\n",
    "\n",
    "\n",
    "\n",
    "\n",
    "\n",
    "\n"
   ]
  }
 ],
 "metadata": {
  "kernelspec": {
   "display_name": "Python 3",
   "language": "python",
   "name": "python3"
  },
  "language_info": {
   "codemirror_mode": {
    "name": "ipython",
    "version": 3
   },
   "file_extension": ".py",
   "mimetype": "text/x-python",
   "name": "python",
   "nbconvert_exporter": "python",
   "pygments_lexer": "ipython3",
   "version": "3.9.6"
  },
  "orig_nbformat": 4
 },
 "nbformat": 4,
 "nbformat_minor": 2
}
