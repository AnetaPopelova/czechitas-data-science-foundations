{
  "nbformat": 4,
  "nbformat_minor": 0,
  "metadata": {
    "colab": {
      "provenance": [],
      "include_colab_link": true
    },
    "kernelspec": {
      "name": "python3",
      "display_name": "Python 3"
    },
    "language_info": {
      "name": "python"
    }
  },
  "cells": [
    {
      "cell_type": "markdown",
      "metadata": {
        "id": "view-in-github",
        "colab_type": "text"
      },
      "source": [
        "<a href=\"https://colab.research.google.com/github/AnetaPopelova/czechitas-data-science-foundations/blob/main/data_processing_demonstration.ipynb\" target=\"_parent\"><img src=\"https://colab.research.google.com/assets/colab-badge.svg\" alt=\"Open In Colab\"/></a>"
      ]
    },
    {
      "cell_type": "code",
      "source": [
        "# import libraries\n",
        "import pandas as pd\n",
        "import numpy as np\n",
        "import matplotlib.pyplot as plt\n",
        "from google.colab import files\n",
        "import io"
      ],
      "metadata": {
        "id": "JuWMakR9WZap"
      },
      "execution_count": null,
      "outputs": []
    },
    {
      "cell_type": "code",
      "source": [
        "# Upload the file\n",
        "uploaded = files.upload()"
      ],
      "metadata": {
        "colab": {
          "base_uri": "https://localhost:8080/",
          "height": 38
        },
        "id": "Jp__PkAyalsc",
        "outputId": "07574b88-4f99-4ffe-af42-0bdeccd325d7"
      },
      "execution_count": null,
      "outputs": [
        {
          "output_type": "display_data",
          "data": {
            "text/plain": [
              "<IPython.core.display.HTML object>"
            ],
            "text/html": [
              "\n",
              "     <input type=\"file\" id=\"files-7c2224ce-d409-4a65-895f-d9e9862b2a52\" name=\"files[]\" multiple disabled\n",
              "        style=\"border:none\" />\n",
              "     <output id=\"result-7c2224ce-d409-4a65-895f-d9e9862b2a52\">\n",
              "      Upload widget is only available when the cell has been executed in the\n",
              "      current browser session. Please rerun this cell to enable.\n",
              "      </output>\n",
              "      <script>// Copyright 2017 Google LLC\n",
              "//\n",
              "// Licensed under the Apache License, Version 2.0 (the \"License\");\n",
              "// you may not use this file except in compliance with the License.\n",
              "// You may obtain a copy of the License at\n",
              "//\n",
              "//      http://www.apache.org/licenses/LICENSE-2.0\n",
              "//\n",
              "// Unless required by applicable law or agreed to in writing, software\n",
              "// distributed under the License is distributed on an \"AS IS\" BASIS,\n",
              "// WITHOUT WARRANTIES OR CONDITIONS OF ANY KIND, either express or implied.\n",
              "// See the License for the specific language governing permissions and\n",
              "// limitations under the License.\n",
              "\n",
              "/**\n",
              " * @fileoverview Helpers for google.colab Python module.\n",
              " */\n",
              "(function(scope) {\n",
              "function span(text, styleAttributes = {}) {\n",
              "  const element = document.createElement('span');\n",
              "  element.textContent = text;\n",
              "  for (const key of Object.keys(styleAttributes)) {\n",
              "    element.style[key] = styleAttributes[key];\n",
              "  }\n",
              "  return element;\n",
              "}\n",
              "\n",
              "// Max number of bytes which will be uploaded at a time.\n",
              "const MAX_PAYLOAD_SIZE = 100 * 1024;\n",
              "\n",
              "function _uploadFiles(inputId, outputId) {\n",
              "  const steps = uploadFilesStep(inputId, outputId);\n",
              "  const outputElement = document.getElementById(outputId);\n",
              "  // Cache steps on the outputElement to make it available for the next call\n",
              "  // to uploadFilesContinue from Python.\n",
              "  outputElement.steps = steps;\n",
              "\n",
              "  return _uploadFilesContinue(outputId);\n",
              "}\n",
              "\n",
              "// This is roughly an async generator (not supported in the browser yet),\n",
              "// where there are multiple asynchronous steps and the Python side is going\n",
              "// to poll for completion of each step.\n",
              "// This uses a Promise to block the python side on completion of each step,\n",
              "// then passes the result of the previous step as the input to the next step.\n",
              "function _uploadFilesContinue(outputId) {\n",
              "  const outputElement = document.getElementById(outputId);\n",
              "  const steps = outputElement.steps;\n",
              "\n",
              "  const next = steps.next(outputElement.lastPromiseValue);\n",
              "  return Promise.resolve(next.value.promise).then((value) => {\n",
              "    // Cache the last promise value to make it available to the next\n",
              "    // step of the generator.\n",
              "    outputElement.lastPromiseValue = value;\n",
              "    return next.value.response;\n",
              "  });\n",
              "}\n",
              "\n",
              "/**\n",
              " * Generator function which is called between each async step of the upload\n",
              " * process.\n",
              " * @param {string} inputId Element ID of the input file picker element.\n",
              " * @param {string} outputId Element ID of the output display.\n",
              " * @return {!Iterable<!Object>} Iterable of next steps.\n",
              " */\n",
              "function* uploadFilesStep(inputId, outputId) {\n",
              "  const inputElement = document.getElementById(inputId);\n",
              "  inputElement.disabled = false;\n",
              "\n",
              "  const outputElement = document.getElementById(outputId);\n",
              "  outputElement.innerHTML = '';\n",
              "\n",
              "  const pickedPromise = new Promise((resolve) => {\n",
              "    inputElement.addEventListener('change', (e) => {\n",
              "      resolve(e.target.files);\n",
              "    });\n",
              "  });\n",
              "\n",
              "  const cancel = document.createElement('button');\n",
              "  inputElement.parentElement.appendChild(cancel);\n",
              "  cancel.textContent = 'Cancel upload';\n",
              "  const cancelPromise = new Promise((resolve) => {\n",
              "    cancel.onclick = () => {\n",
              "      resolve(null);\n",
              "    };\n",
              "  });\n",
              "\n",
              "  // Wait for the user to pick the files.\n",
              "  const files = yield {\n",
              "    promise: Promise.race([pickedPromise, cancelPromise]),\n",
              "    response: {\n",
              "      action: 'starting',\n",
              "    }\n",
              "  };\n",
              "\n",
              "  cancel.remove();\n",
              "\n",
              "  // Disable the input element since further picks are not allowed.\n",
              "  inputElement.disabled = true;\n",
              "\n",
              "  if (!files) {\n",
              "    return {\n",
              "      response: {\n",
              "        action: 'complete',\n",
              "      }\n",
              "    };\n",
              "  }\n",
              "\n",
              "  for (const file of files) {\n",
              "    const li = document.createElement('li');\n",
              "    li.append(span(file.name, {fontWeight: 'bold'}));\n",
              "    li.append(span(\n",
              "        `(${file.type || 'n/a'}) - ${file.size} bytes, ` +\n",
              "        `last modified: ${\n",
              "            file.lastModifiedDate ? file.lastModifiedDate.toLocaleDateString() :\n",
              "                                    'n/a'} - `));\n",
              "    const percent = span('0% done');\n",
              "    li.appendChild(percent);\n",
              "\n",
              "    outputElement.appendChild(li);\n",
              "\n",
              "    const fileDataPromise = new Promise((resolve) => {\n",
              "      const reader = new FileReader();\n",
              "      reader.onload = (e) => {\n",
              "        resolve(e.target.result);\n",
              "      };\n",
              "      reader.readAsArrayBuffer(file);\n",
              "    });\n",
              "    // Wait for the data to be ready.\n",
              "    let fileData = yield {\n",
              "      promise: fileDataPromise,\n",
              "      response: {\n",
              "        action: 'continue',\n",
              "      }\n",
              "    };\n",
              "\n",
              "    // Use a chunked sending to avoid message size limits. See b/62115660.\n",
              "    let position = 0;\n",
              "    do {\n",
              "      const length = Math.min(fileData.byteLength - position, MAX_PAYLOAD_SIZE);\n",
              "      const chunk = new Uint8Array(fileData, position, length);\n",
              "      position += length;\n",
              "\n",
              "      const base64 = btoa(String.fromCharCode.apply(null, chunk));\n",
              "      yield {\n",
              "        response: {\n",
              "          action: 'append',\n",
              "          file: file.name,\n",
              "          data: base64,\n",
              "        },\n",
              "      };\n",
              "\n",
              "      let percentDone = fileData.byteLength === 0 ?\n",
              "          100 :\n",
              "          Math.round((position / fileData.byteLength) * 100);\n",
              "      percent.textContent = `${percentDone}% done`;\n",
              "\n",
              "    } while (position < fileData.byteLength);\n",
              "  }\n",
              "\n",
              "  // All done.\n",
              "  yield {\n",
              "    response: {\n",
              "      action: 'complete',\n",
              "    }\n",
              "  };\n",
              "}\n",
              "\n",
              "scope.google = scope.google || {};\n",
              "scope.google.colab = scope.google.colab || {};\n",
              "scope.google.colab._files = {\n",
              "  _uploadFiles,\n",
              "  _uploadFilesContinue,\n",
              "};\n",
              "})(self);\n",
              "</script> "
            ]
          },
          "metadata": {}
        }
      ]
    },
    {
      "cell_type": "code",
      "source": [
        "# Read the CSV file into a pandas DataFrame\n",
        "df = pd.read_csv(io.BytesIO(uploaded['data_sample_data_processing.csv']))"
      ],
      "metadata": {
        "id": "tF_FUW1Gaivn"
      },
      "execution_count": null,
      "outputs": []
    },
    {
      "cell_type": "markdown",
      "source": [
        "## Explore data"
      ],
      "metadata": {
        "id": "e3Tvl0GLas2k"
      }
    },
    {
      "cell_type": "code",
      "source": [
        "# Print the first few rows of the DataFrame\n",
        "df.head()"
      ],
      "metadata": {
        "colab": {
          "base_uri": "https://localhost:8080/",
          "height": 384
        },
        "id": "GJm9Yu6Mafu5",
        "outputId": "b9831017-cff4-475a-ba25-86108b938b11"
      },
      "execution_count": null,
      "outputs": [
        {
          "output_type": "execute_result",
          "data": {
            "text/plain": [
              "   Unnamed: 0                                              nazev  \\\n",
              "0           0  Pronájem bytu 2+1 50 m²Šumberova, Praha 6 - Ve...   \n",
              "1           1  Pronájem bytu 1+1 40 m²Máchova, Praha 2 - Vino...   \n",
              "2           2  Pronájem bytu 2+kk 50 m²Lucemburská, Praha 3 -...   \n",
              "3           3  Pronájem bytu 2+kk 60 m²Jankovcova, Praha 7 - ...   \n",
              "4           4  Pronájem bytu 2+kk 50 m²Lucemburská, Praha 3 -...   \n",
              "\n",
              "                 cena                                              odkaz  \\\n",
              "0  16 000 Kč za měsíc  https://www.sreality.cz/detail/pronajem/byt/2+...   \n",
              "1  25 000 Kč za měsíc  https://www.sreality.cz/detail/pronajem/byt/1+...   \n",
              "2  25 200 Kč za měsíc  https://www.sreality.cz/detail/pronajem/byt/2+...   \n",
              "3  19 999 Kč za měsíc  https://www.sreality.cz/detail/pronajem/byt/2+...   \n",
              "4  25 200 Kč za měsíc  https://www.sreality.cz/detail/pronajem/byt/2+...   \n",
              "\n",
              "         Celková cena                                    Poznámka k ceně  \\\n",
              "0  16 000 Kč za měsíc                     poplatky 4000Kč plus el a plyn   \n",
              "1  25 000 Kč za měsíc  + služby 3.400,- Kč/byt + poplatky 2.000,- Kč ...   \n",
              "2  25 200 Kč za měsíc  + služby 2.000,- Kč/osoba/měsíc + poplatky, ka...   \n",
              "3  19 999 Kč za měsíc  + poplatky záloha 6.000 Kč včetně elektřiny. H...   \n",
              "4  25 200 Kč za měsíc  poplatky 2.000,-Kč/osoba/měsíc, plyn 2.500,-Kč...   \n",
              "\n",
              "  ID zakázky Aktualizace   Stavba     Stav objektu  ... Výška stropu Stav  \\\n",
              "0         48  13.04.2023  Cihlová  Po rekonstrukci  ...          NaN  NaN   \n",
              "1     A09474        Dnes  Smíšená      Velmi dobrý  ...          NaN  NaN   \n",
              "2     A09791        Dnes  Smíšená      Velmi dobrý  ...          NaN  NaN   \n",
              "3   22221111        Dnes  Cihlová       Novostavba  ...          NaN  NaN   \n",
              "4        NaN        Dnes  Cihlová      Velmi dobrý  ...          NaN  NaN   \n",
              "\n",
              "  Zlevněno Původní cena Počet bytů Půdní vestavba Datum zahájení prodeje Cena  \\\n",
              "0      NaN          NaN        NaN            NaN                    NaN  NaN   \n",
              "1      NaN          NaN        NaN            NaN                    NaN  NaN   \n",
              "2      NaN          NaN        NaN            NaN                    NaN  NaN   \n",
              "3      NaN          NaN        NaN            NaN                    NaN  NaN   \n",
              "4      NaN          NaN        NaN            NaN                    NaN  NaN   \n",
              "\n",
              "   Datum ukončení výstavby Plocha bazénu  \n",
              "0                      NaN           NaN  \n",
              "1                      NaN           NaN  \n",
              "2                      NaN           NaN  \n",
              "3                      NaN           NaN  \n",
              "4                      NaN           NaN  \n",
              "\n",
              "[5 rows x 54 columns]"
            ],
            "text/html": [
              "\n",
              "  <div id=\"df-0d55a0c2-da94-4a6d-a4cb-fb4190ac07db\">\n",
              "    <div class=\"colab-df-container\">\n",
              "      <div>\n",
              "<style scoped>\n",
              "    .dataframe tbody tr th:only-of-type {\n",
              "        vertical-align: middle;\n",
              "    }\n",
              "\n",
              "    .dataframe tbody tr th {\n",
              "        vertical-align: top;\n",
              "    }\n",
              "\n",
              "    .dataframe thead th {\n",
              "        text-align: right;\n",
              "    }\n",
              "</style>\n",
              "<table border=\"1\" class=\"dataframe\">\n",
              "  <thead>\n",
              "    <tr style=\"text-align: right;\">\n",
              "      <th></th>\n",
              "      <th>Unnamed: 0</th>\n",
              "      <th>nazev</th>\n",
              "      <th>cena</th>\n",
              "      <th>odkaz</th>\n",
              "      <th>Celková cena</th>\n",
              "      <th>Poznámka k ceně</th>\n",
              "      <th>ID zakázky</th>\n",
              "      <th>Aktualizace</th>\n",
              "      <th>Stavba</th>\n",
              "      <th>Stav objektu</th>\n",
              "      <th>...</th>\n",
              "      <th>Výška stropu</th>\n",
              "      <th>Stav</th>\n",
              "      <th>Zlevněno</th>\n",
              "      <th>Původní cena</th>\n",
              "      <th>Počet bytů</th>\n",
              "      <th>Půdní vestavba</th>\n",
              "      <th>Datum zahájení prodeje</th>\n",
              "      <th>Cena</th>\n",
              "      <th>Datum ukončení výstavby</th>\n",
              "      <th>Plocha bazénu</th>\n",
              "    </tr>\n",
              "  </thead>\n",
              "  <tbody>\n",
              "    <tr>\n",
              "      <th>0</th>\n",
              "      <td>0</td>\n",
              "      <td>Pronájem bytu 2+1 50 m²Šumberova, Praha 6 - Ve...</td>\n",
              "      <td>16 000 Kč za měsíc</td>\n",
              "      <td>https://www.sreality.cz/detail/pronajem/byt/2+...</td>\n",
              "      <td>16 000 Kč za měsíc</td>\n",
              "      <td>poplatky 4000Kč plus el a plyn</td>\n",
              "      <td>48</td>\n",
              "      <td>13.04.2023</td>\n",
              "      <td>Cihlová</td>\n",
              "      <td>Po rekonstrukci</td>\n",
              "      <td>...</td>\n",
              "      <td>NaN</td>\n",
              "      <td>NaN</td>\n",
              "      <td>NaN</td>\n",
              "      <td>NaN</td>\n",
              "      <td>NaN</td>\n",
              "      <td>NaN</td>\n",
              "      <td>NaN</td>\n",
              "      <td>NaN</td>\n",
              "      <td>NaN</td>\n",
              "      <td>NaN</td>\n",
              "    </tr>\n",
              "    <tr>\n",
              "      <th>1</th>\n",
              "      <td>1</td>\n",
              "      <td>Pronájem bytu 1+1 40 m²Máchova, Praha 2 - Vino...</td>\n",
              "      <td>25 000 Kč za měsíc</td>\n",
              "      <td>https://www.sreality.cz/detail/pronajem/byt/1+...</td>\n",
              "      <td>25 000 Kč za měsíc</td>\n",
              "      <td>+ služby 3.400,- Kč/byt + poplatky 2.000,- Kč ...</td>\n",
              "      <td>A09474</td>\n",
              "      <td>Dnes</td>\n",
              "      <td>Smíšená</td>\n",
              "      <td>Velmi dobrý</td>\n",
              "      <td>...</td>\n",
              "      <td>NaN</td>\n",
              "      <td>NaN</td>\n",
              "      <td>NaN</td>\n",
              "      <td>NaN</td>\n",
              "      <td>NaN</td>\n",
              "      <td>NaN</td>\n",
              "      <td>NaN</td>\n",
              "      <td>NaN</td>\n",
              "      <td>NaN</td>\n",
              "      <td>NaN</td>\n",
              "    </tr>\n",
              "    <tr>\n",
              "      <th>2</th>\n",
              "      <td>2</td>\n",
              "      <td>Pronájem bytu 2+kk 50 m²Lucemburská, Praha 3 -...</td>\n",
              "      <td>25 200 Kč za měsíc</td>\n",
              "      <td>https://www.sreality.cz/detail/pronajem/byt/2+...</td>\n",
              "      <td>25 200 Kč za měsíc</td>\n",
              "      <td>+ služby 2.000,- Kč/osoba/měsíc + poplatky, ka...</td>\n",
              "      <td>A09791</td>\n",
              "      <td>Dnes</td>\n",
              "      <td>Smíšená</td>\n",
              "      <td>Velmi dobrý</td>\n",
              "      <td>...</td>\n",
              "      <td>NaN</td>\n",
              "      <td>NaN</td>\n",
              "      <td>NaN</td>\n",
              "      <td>NaN</td>\n",
              "      <td>NaN</td>\n",
              "      <td>NaN</td>\n",
              "      <td>NaN</td>\n",
              "      <td>NaN</td>\n",
              "      <td>NaN</td>\n",
              "      <td>NaN</td>\n",
              "    </tr>\n",
              "    <tr>\n",
              "      <th>3</th>\n",
              "      <td>3</td>\n",
              "      <td>Pronájem bytu 2+kk 60 m²Jankovcova, Praha 7 - ...</td>\n",
              "      <td>19 999 Kč za měsíc</td>\n",
              "      <td>https://www.sreality.cz/detail/pronajem/byt/2+...</td>\n",
              "      <td>19 999 Kč za měsíc</td>\n",
              "      <td>+ poplatky záloha 6.000 Kč včetně elektřiny. H...</td>\n",
              "      <td>22221111</td>\n",
              "      <td>Dnes</td>\n",
              "      <td>Cihlová</td>\n",
              "      <td>Novostavba</td>\n",
              "      <td>...</td>\n",
              "      <td>NaN</td>\n",
              "      <td>NaN</td>\n",
              "      <td>NaN</td>\n",
              "      <td>NaN</td>\n",
              "      <td>NaN</td>\n",
              "      <td>NaN</td>\n",
              "      <td>NaN</td>\n",
              "      <td>NaN</td>\n",
              "      <td>NaN</td>\n",
              "      <td>NaN</td>\n",
              "    </tr>\n",
              "    <tr>\n",
              "      <th>4</th>\n",
              "      <td>4</td>\n",
              "      <td>Pronájem bytu 2+kk 50 m²Lucemburská, Praha 3 -...</td>\n",
              "      <td>25 200 Kč za měsíc</td>\n",
              "      <td>https://www.sreality.cz/detail/pronajem/byt/2+...</td>\n",
              "      <td>25 200 Kč za měsíc</td>\n",
              "      <td>poplatky 2.000,-Kč/osoba/měsíc, plyn 2.500,-Kč...</td>\n",
              "      <td>NaN</td>\n",
              "      <td>Dnes</td>\n",
              "      <td>Cihlová</td>\n",
              "      <td>Velmi dobrý</td>\n",
              "      <td>...</td>\n",
              "      <td>NaN</td>\n",
              "      <td>NaN</td>\n",
              "      <td>NaN</td>\n",
              "      <td>NaN</td>\n",
              "      <td>NaN</td>\n",
              "      <td>NaN</td>\n",
              "      <td>NaN</td>\n",
              "      <td>NaN</td>\n",
              "      <td>NaN</td>\n",
              "      <td>NaN</td>\n",
              "    </tr>\n",
              "  </tbody>\n",
              "</table>\n",
              "<p>5 rows × 54 columns</p>\n",
              "</div>\n",
              "      <button class=\"colab-df-convert\" onclick=\"convertToInteractive('df-0d55a0c2-da94-4a6d-a4cb-fb4190ac07db')\"\n",
              "              title=\"Convert this dataframe to an interactive table.\"\n",
              "              style=\"display:none;\">\n",
              "        \n",
              "  <svg xmlns=\"http://www.w3.org/2000/svg\" height=\"24px\"viewBox=\"0 0 24 24\"\n",
              "       width=\"24px\">\n",
              "    <path d=\"M0 0h24v24H0V0z\" fill=\"none\"/>\n",
              "    <path d=\"M18.56 5.44l.94 2.06.94-2.06 2.06-.94-2.06-.94-.94-2.06-.94 2.06-2.06.94zm-11 1L8.5 8.5l.94-2.06 2.06-.94-2.06-.94L8.5 2.5l-.94 2.06-2.06.94zm10 10l.94 2.06.94-2.06 2.06-.94-2.06-.94-.94-2.06-.94 2.06-2.06.94z\"/><path d=\"M17.41 7.96l-1.37-1.37c-.4-.4-.92-.59-1.43-.59-.52 0-1.04.2-1.43.59L10.3 9.45l-7.72 7.72c-.78.78-.78 2.05 0 2.83L4 21.41c.39.39.9.59 1.41.59.51 0 1.02-.2 1.41-.59l7.78-7.78 2.81-2.81c.8-.78.8-2.07 0-2.86zM5.41 20L4 18.59l7.72-7.72 1.47 1.35L5.41 20z\"/>\n",
              "  </svg>\n",
              "      </button>\n",
              "      \n",
              "  <style>\n",
              "    .colab-df-container {\n",
              "      display:flex;\n",
              "      flex-wrap:wrap;\n",
              "      gap: 12px;\n",
              "    }\n",
              "\n",
              "    .colab-df-convert {\n",
              "      background-color: #E8F0FE;\n",
              "      border: none;\n",
              "      border-radius: 50%;\n",
              "      cursor: pointer;\n",
              "      display: none;\n",
              "      fill: #1967D2;\n",
              "      height: 32px;\n",
              "      padding: 0 0 0 0;\n",
              "      width: 32px;\n",
              "    }\n",
              "\n",
              "    .colab-df-convert:hover {\n",
              "      background-color: #E2EBFA;\n",
              "      box-shadow: 0px 1px 2px rgba(60, 64, 67, 0.3), 0px 1px 3px 1px rgba(60, 64, 67, 0.15);\n",
              "      fill: #174EA6;\n",
              "    }\n",
              "\n",
              "    [theme=dark] .colab-df-convert {\n",
              "      background-color: #3B4455;\n",
              "      fill: #D2E3FC;\n",
              "    }\n",
              "\n",
              "    [theme=dark] .colab-df-convert:hover {\n",
              "      background-color: #434B5C;\n",
              "      box-shadow: 0px 1px 3px 1px rgba(0, 0, 0, 0.15);\n",
              "      filter: drop-shadow(0px 1px 2px rgba(0, 0, 0, 0.3));\n",
              "      fill: #FFFFFF;\n",
              "    }\n",
              "  </style>\n",
              "\n",
              "      <script>\n",
              "        const buttonEl =\n",
              "          document.querySelector('#df-0d55a0c2-da94-4a6d-a4cb-fb4190ac07db button.colab-df-convert');\n",
              "        buttonEl.style.display =\n",
              "          google.colab.kernel.accessAllowed ? 'block' : 'none';\n",
              "\n",
              "        async function convertToInteractive(key) {\n",
              "          const element = document.querySelector('#df-0d55a0c2-da94-4a6d-a4cb-fb4190ac07db');\n",
              "          const dataTable =\n",
              "            await google.colab.kernel.invokeFunction('convertToInteractive',\n",
              "                                                     [key], {});\n",
              "          if (!dataTable) return;\n",
              "\n",
              "          const docLinkHtml = 'Like what you see? Visit the ' +\n",
              "            '<a target=\"_blank\" href=https://colab.research.google.com/notebooks/data_table.ipynb>data table notebook</a>'\n",
              "            + ' to learn more about interactive tables.';\n",
              "          element.innerHTML = '';\n",
              "          dataTable['output_type'] = 'display_data';\n",
              "          await google.colab.output.renderOutput(dataTable, element);\n",
              "          const docLink = document.createElement('div');\n",
              "          docLink.innerHTML = docLinkHtml;\n",
              "          element.appendChild(docLink);\n",
              "        }\n",
              "      </script>\n",
              "    </div>\n",
              "  </div>\n",
              "  "
            ]
          },
          "metadata": {},
          "execution_count": 13
        }
      ]
    },
    {
      "cell_type": "code",
      "source": [
        "df.info()"
      ],
      "metadata": {
        "colab": {
          "base_uri": "https://localhost:8080/"
        },
        "id": "MgkiCyoeXRnA",
        "outputId": "71c0dacd-fb02-4e5a-d87d-160e12c873ca"
      },
      "execution_count": null,
      "outputs": [
        {
          "output_type": "stream",
          "name": "stdout",
          "text": [
            "<class 'pandas.core.frame.DataFrame'>\n",
            "RangeIndex: 100 entries, 0 to 99\n",
            "Data columns (total 54 columns):\n",
            " #   Column                                  Non-Null Count  Dtype  \n",
            "---  ------                                  --------------  -----  \n",
            " 0   Unnamed: 0                              100 non-null    int64  \n",
            " 1   nazev                                   100 non-null    object \n",
            " 2   cena                                    100 non-null    object \n",
            " 3   odkaz                                   100 non-null    object \n",
            " 4   Celková cena                            100 non-null    object \n",
            " 5   Poznámka k ceně                         88 non-null     object \n",
            " 6   ID zakázky                              87 non-null     object \n",
            " 7   Aktualizace                             100 non-null    object \n",
            " 8   Stavba                                  100 non-null    object \n",
            " 9   Stav objektu                            100 non-null    object \n",
            " 10  Vlastnictví                             100 non-null    object \n",
            " 11  Podlaží                                 100 non-null    object \n",
            " 12  Užitná plocha                           100 non-null    object \n",
            " 13  Plocha podlahová                        62 non-null     object \n",
            " 14  Sklep                                   12 non-null     object \n",
            " 15  Datum nastěhování                       100 non-null    object \n",
            " 16  Doprava                                 36 non-null     object \n",
            " 17  Energetická náročnost budovy            69 non-null     object \n",
            " 18  Bezbariérový                            0 non-null      float64\n",
            " 19  Vybavení                                26 non-null     object \n",
            " 20  Garáž                                   3 non-null      float64\n",
            " 21  Výtah                                   0 non-null      float64\n",
            " 22  Lodžie                                  9 non-null      object \n",
            " 23  ID                                      13 non-null     float64\n",
            " 24  Náklady na bydlení                      7 non-null      object \n",
            " 25  Umístění objektu                        33 non-null     object \n",
            " 26  Voda                                    25 non-null     object \n",
            " 27  Topení                                  47 non-null     object \n",
            " 28  Plyn                                    10 non-null     object \n",
            " 29  Odpad                                   15 non-null     object \n",
            " 30  Elektřina                               33 non-null     object \n",
            " 31  Parkování                               3 non-null      float64\n",
            " 32  Telekomunikace                          30 non-null     object \n",
            " 33  Balkón                                  9 non-null      object \n",
            " 34  Komunikace                              10 non-null     object \n",
            " 35  Terasa                                  8 non-null      object \n",
            " 36  Plocha zahrady                          3 non-null      object \n",
            " 37  Ukazatel energetické náročnosti budovy  4 non-null      object \n",
            " 38  Průkaz energetické náročnosti budovy    5 non-null      object \n",
            " 39  Rok kolaudace                           1 non-null      float64\n",
            " 40  Rok rekonstrukce                        7 non-null      float64\n",
            " 41  Plocha zastavěná                        1 non-null      object \n",
            " 42  Typ bytu                                2 non-null      object \n",
            " 43  Bazén                                   0 non-null      float64\n",
            " 44  Výška stropu                            0 non-null      float64\n",
            " 45  Stav                                    0 non-null      float64\n",
            " 46  Zlevněno                                0 non-null      float64\n",
            " 47  Původní cena                            0 non-null      float64\n",
            " 48  Počet bytů                              0 non-null      float64\n",
            " 49  Půdní vestavba                          0 non-null      float64\n",
            " 50  Datum zahájení prodeje                  0 non-null      float64\n",
            " 51  Cena                                    0 non-null      float64\n",
            " 52  Datum ukončení výstavby                 0 non-null      float64\n",
            " 53  Plocha bazénu                           0 non-null      float64\n",
            "dtypes: float64(18), int64(1), object(35)\n",
            "memory usage: 42.3+ KB\n"
          ]
        }
      ]
    },
    {
      "cell_type": "code",
      "source": [
        "df.describe()"
      ],
      "metadata": {
        "colab": {
          "base_uri": "https://localhost:8080/",
          "height": 300
        },
        "id": "7sSZ-JvdrtOP",
        "outputId": "f1df55c1-d1d1-4580-d576-bd7203269e0e"
      },
      "execution_count": null,
      "outputs": [
        {
          "output_type": "execute_result",
          "data": {
            "text/plain": [
              "       Unnamed: 0  Bezbariérový  Garáž  Výtah            ID  Parkování  \\\n",
              "count  100.000000           0.0    3.0    0.0  1.300000e+01   3.000000   \n",
              "mean    49.500000           NaN    1.0    NaN  1.538912e+09   4.000000   \n",
              "std     29.011492           NaN    0.0    NaN  1.426476e+09   5.196152   \n",
              "min      0.000000           NaN    1.0    NaN  2.766139e+07   1.000000   \n",
              "25%     24.750000           NaN    1.0    NaN  2.268852e+08   1.000000   \n",
              "50%     49.500000           NaN    1.0    NaN  1.067849e+09   1.000000   \n",
              "75%     74.250000           NaN    1.0    NaN  2.305168e+09   5.500000   \n",
              "max     99.000000           NaN    1.0    NaN  4.271165e+09  10.000000   \n",
              "\n",
              "       Rok kolaudace  Rok rekonstrukce  Bazén  Výška stropu  Stav  Zlevněno  \\\n",
              "count            1.0          7.000000    0.0           0.0   0.0       0.0   \n",
              "mean          1999.0       2019.714286    NaN           NaN   NaN       NaN   \n",
              "std              NaN          5.023753    NaN           NaN   NaN       NaN   \n",
              "min           1999.0       2009.000000    NaN           NaN   NaN       NaN   \n",
              "25%           1999.0       2019.500000    NaN           NaN   NaN       NaN   \n",
              "50%           1999.0       2022.000000    NaN           NaN   NaN       NaN   \n",
              "75%           1999.0       2022.500000    NaN           NaN   NaN       NaN   \n",
              "max           1999.0       2023.000000    NaN           NaN   NaN       NaN   \n",
              "\n",
              "       Původní cena  Počet bytů  Půdní vestavba  Datum zahájení prodeje  Cena  \\\n",
              "count           0.0         0.0             0.0                     0.0   0.0   \n",
              "mean            NaN         NaN             NaN                     NaN   NaN   \n",
              "std             NaN         NaN             NaN                     NaN   NaN   \n",
              "min             NaN         NaN             NaN                     NaN   NaN   \n",
              "25%             NaN         NaN             NaN                     NaN   NaN   \n",
              "50%             NaN         NaN             NaN                     NaN   NaN   \n",
              "75%             NaN         NaN             NaN                     NaN   NaN   \n",
              "max             NaN         NaN             NaN                     NaN   NaN   \n",
              "\n",
              "       Datum ukončení výstavby  Plocha bazénu  \n",
              "count                      0.0            0.0  \n",
              "mean                       NaN            NaN  \n",
              "std                        NaN            NaN  \n",
              "min                        NaN            NaN  \n",
              "25%                        NaN            NaN  \n",
              "50%                        NaN            NaN  \n",
              "75%                        NaN            NaN  \n",
              "max                        NaN            NaN  "
            ],
            "text/html": [
              "\n",
              "  <div id=\"df-6efd9b21-d546-4699-9dda-100d7cdab803\">\n",
              "    <div class=\"colab-df-container\">\n",
              "      <div>\n",
              "<style scoped>\n",
              "    .dataframe tbody tr th:only-of-type {\n",
              "        vertical-align: middle;\n",
              "    }\n",
              "\n",
              "    .dataframe tbody tr th {\n",
              "        vertical-align: top;\n",
              "    }\n",
              "\n",
              "    .dataframe thead th {\n",
              "        text-align: right;\n",
              "    }\n",
              "</style>\n",
              "<table border=\"1\" class=\"dataframe\">\n",
              "  <thead>\n",
              "    <tr style=\"text-align: right;\">\n",
              "      <th></th>\n",
              "      <th>Unnamed: 0</th>\n",
              "      <th>Bezbariérový</th>\n",
              "      <th>Garáž</th>\n",
              "      <th>Výtah</th>\n",
              "      <th>ID</th>\n",
              "      <th>Parkování</th>\n",
              "      <th>Rok kolaudace</th>\n",
              "      <th>Rok rekonstrukce</th>\n",
              "      <th>Bazén</th>\n",
              "      <th>Výška stropu</th>\n",
              "      <th>Stav</th>\n",
              "      <th>Zlevněno</th>\n",
              "      <th>Původní cena</th>\n",
              "      <th>Počet bytů</th>\n",
              "      <th>Půdní vestavba</th>\n",
              "      <th>Datum zahájení prodeje</th>\n",
              "      <th>Cena</th>\n",
              "      <th>Datum ukončení výstavby</th>\n",
              "      <th>Plocha bazénu</th>\n",
              "    </tr>\n",
              "  </thead>\n",
              "  <tbody>\n",
              "    <tr>\n",
              "      <th>count</th>\n",
              "      <td>100.000000</td>\n",
              "      <td>0.0</td>\n",
              "      <td>3.0</td>\n",
              "      <td>0.0</td>\n",
              "      <td>1.300000e+01</td>\n",
              "      <td>3.000000</td>\n",
              "      <td>1.0</td>\n",
              "      <td>7.000000</td>\n",
              "      <td>0.0</td>\n",
              "      <td>0.0</td>\n",
              "      <td>0.0</td>\n",
              "      <td>0.0</td>\n",
              "      <td>0.0</td>\n",
              "      <td>0.0</td>\n",
              "      <td>0.0</td>\n",
              "      <td>0.0</td>\n",
              "      <td>0.0</td>\n",
              "      <td>0.0</td>\n",
              "      <td>0.0</td>\n",
              "    </tr>\n",
              "    <tr>\n",
              "      <th>mean</th>\n",
              "      <td>49.500000</td>\n",
              "      <td>NaN</td>\n",
              "      <td>1.0</td>\n",
              "      <td>NaN</td>\n",
              "      <td>1.538912e+09</td>\n",
              "      <td>4.000000</td>\n",
              "      <td>1999.0</td>\n",
              "      <td>2019.714286</td>\n",
              "      <td>NaN</td>\n",
              "      <td>NaN</td>\n",
              "      <td>NaN</td>\n",
              "      <td>NaN</td>\n",
              "      <td>NaN</td>\n",
              "      <td>NaN</td>\n",
              "      <td>NaN</td>\n",
              "      <td>NaN</td>\n",
              "      <td>NaN</td>\n",
              "      <td>NaN</td>\n",
              "      <td>NaN</td>\n",
              "    </tr>\n",
              "    <tr>\n",
              "      <th>std</th>\n",
              "      <td>29.011492</td>\n",
              "      <td>NaN</td>\n",
              "      <td>0.0</td>\n",
              "      <td>NaN</td>\n",
              "      <td>1.426476e+09</td>\n",
              "      <td>5.196152</td>\n",
              "      <td>NaN</td>\n",
              "      <td>5.023753</td>\n",
              "      <td>NaN</td>\n",
              "      <td>NaN</td>\n",
              "      <td>NaN</td>\n",
              "      <td>NaN</td>\n",
              "      <td>NaN</td>\n",
              "      <td>NaN</td>\n",
              "      <td>NaN</td>\n",
              "      <td>NaN</td>\n",
              "      <td>NaN</td>\n",
              "      <td>NaN</td>\n",
              "      <td>NaN</td>\n",
              "    </tr>\n",
              "    <tr>\n",
              "      <th>min</th>\n",
              "      <td>0.000000</td>\n",
              "      <td>NaN</td>\n",
              "      <td>1.0</td>\n",
              "      <td>NaN</td>\n",
              "      <td>2.766139e+07</td>\n",
              "      <td>1.000000</td>\n",
              "      <td>1999.0</td>\n",
              "      <td>2009.000000</td>\n",
              "      <td>NaN</td>\n",
              "      <td>NaN</td>\n",
              "      <td>NaN</td>\n",
              "      <td>NaN</td>\n",
              "      <td>NaN</td>\n",
              "      <td>NaN</td>\n",
              "      <td>NaN</td>\n",
              "      <td>NaN</td>\n",
              "      <td>NaN</td>\n",
              "      <td>NaN</td>\n",
              "      <td>NaN</td>\n",
              "    </tr>\n",
              "    <tr>\n",
              "      <th>25%</th>\n",
              "      <td>24.750000</td>\n",
              "      <td>NaN</td>\n",
              "      <td>1.0</td>\n",
              "      <td>NaN</td>\n",
              "      <td>2.268852e+08</td>\n",
              "      <td>1.000000</td>\n",
              "      <td>1999.0</td>\n",
              "      <td>2019.500000</td>\n",
              "      <td>NaN</td>\n",
              "      <td>NaN</td>\n",
              "      <td>NaN</td>\n",
              "      <td>NaN</td>\n",
              "      <td>NaN</td>\n",
              "      <td>NaN</td>\n",
              "      <td>NaN</td>\n",
              "      <td>NaN</td>\n",
              "      <td>NaN</td>\n",
              "      <td>NaN</td>\n",
              "      <td>NaN</td>\n",
              "    </tr>\n",
              "    <tr>\n",
              "      <th>50%</th>\n",
              "      <td>49.500000</td>\n",
              "      <td>NaN</td>\n",
              "      <td>1.0</td>\n",
              "      <td>NaN</td>\n",
              "      <td>1.067849e+09</td>\n",
              "      <td>1.000000</td>\n",
              "      <td>1999.0</td>\n",
              "      <td>2022.000000</td>\n",
              "      <td>NaN</td>\n",
              "      <td>NaN</td>\n",
              "      <td>NaN</td>\n",
              "      <td>NaN</td>\n",
              "      <td>NaN</td>\n",
              "      <td>NaN</td>\n",
              "      <td>NaN</td>\n",
              "      <td>NaN</td>\n",
              "      <td>NaN</td>\n",
              "      <td>NaN</td>\n",
              "      <td>NaN</td>\n",
              "    </tr>\n",
              "    <tr>\n",
              "      <th>75%</th>\n",
              "      <td>74.250000</td>\n",
              "      <td>NaN</td>\n",
              "      <td>1.0</td>\n",
              "      <td>NaN</td>\n",
              "      <td>2.305168e+09</td>\n",
              "      <td>5.500000</td>\n",
              "      <td>1999.0</td>\n",
              "      <td>2022.500000</td>\n",
              "      <td>NaN</td>\n",
              "      <td>NaN</td>\n",
              "      <td>NaN</td>\n",
              "      <td>NaN</td>\n",
              "      <td>NaN</td>\n",
              "      <td>NaN</td>\n",
              "      <td>NaN</td>\n",
              "      <td>NaN</td>\n",
              "      <td>NaN</td>\n",
              "      <td>NaN</td>\n",
              "      <td>NaN</td>\n",
              "    </tr>\n",
              "    <tr>\n",
              "      <th>max</th>\n",
              "      <td>99.000000</td>\n",
              "      <td>NaN</td>\n",
              "      <td>1.0</td>\n",
              "      <td>NaN</td>\n",
              "      <td>4.271165e+09</td>\n",
              "      <td>10.000000</td>\n",
              "      <td>1999.0</td>\n",
              "      <td>2023.000000</td>\n",
              "      <td>NaN</td>\n",
              "      <td>NaN</td>\n",
              "      <td>NaN</td>\n",
              "      <td>NaN</td>\n",
              "      <td>NaN</td>\n",
              "      <td>NaN</td>\n",
              "      <td>NaN</td>\n",
              "      <td>NaN</td>\n",
              "      <td>NaN</td>\n",
              "      <td>NaN</td>\n",
              "      <td>NaN</td>\n",
              "    </tr>\n",
              "  </tbody>\n",
              "</table>\n",
              "</div>\n",
              "      <button class=\"colab-df-convert\" onclick=\"convertToInteractive('df-6efd9b21-d546-4699-9dda-100d7cdab803')\"\n",
              "              title=\"Convert this dataframe to an interactive table.\"\n",
              "              style=\"display:none;\">\n",
              "        \n",
              "  <svg xmlns=\"http://www.w3.org/2000/svg\" height=\"24px\"viewBox=\"0 0 24 24\"\n",
              "       width=\"24px\">\n",
              "    <path d=\"M0 0h24v24H0V0z\" fill=\"none\"/>\n",
              "    <path d=\"M18.56 5.44l.94 2.06.94-2.06 2.06-.94-2.06-.94-.94-2.06-.94 2.06-2.06.94zm-11 1L8.5 8.5l.94-2.06 2.06-.94-2.06-.94L8.5 2.5l-.94 2.06-2.06.94zm10 10l.94 2.06.94-2.06 2.06-.94-2.06-.94-.94-2.06-.94 2.06-2.06.94z\"/><path d=\"M17.41 7.96l-1.37-1.37c-.4-.4-.92-.59-1.43-.59-.52 0-1.04.2-1.43.59L10.3 9.45l-7.72 7.72c-.78.78-.78 2.05 0 2.83L4 21.41c.39.39.9.59 1.41.59.51 0 1.02-.2 1.41-.59l7.78-7.78 2.81-2.81c.8-.78.8-2.07 0-2.86zM5.41 20L4 18.59l7.72-7.72 1.47 1.35L5.41 20z\"/>\n",
              "  </svg>\n",
              "      </button>\n",
              "      \n",
              "  <style>\n",
              "    .colab-df-container {\n",
              "      display:flex;\n",
              "      flex-wrap:wrap;\n",
              "      gap: 12px;\n",
              "    }\n",
              "\n",
              "    .colab-df-convert {\n",
              "      background-color: #E8F0FE;\n",
              "      border: none;\n",
              "      border-radius: 50%;\n",
              "      cursor: pointer;\n",
              "      display: none;\n",
              "      fill: #1967D2;\n",
              "      height: 32px;\n",
              "      padding: 0 0 0 0;\n",
              "      width: 32px;\n",
              "    }\n",
              "\n",
              "    .colab-df-convert:hover {\n",
              "      background-color: #E2EBFA;\n",
              "      box-shadow: 0px 1px 2px rgba(60, 64, 67, 0.3), 0px 1px 3px 1px rgba(60, 64, 67, 0.15);\n",
              "      fill: #174EA6;\n",
              "    }\n",
              "\n",
              "    [theme=dark] .colab-df-convert {\n",
              "      background-color: #3B4455;\n",
              "      fill: #D2E3FC;\n",
              "    }\n",
              "\n",
              "    [theme=dark] .colab-df-convert:hover {\n",
              "      background-color: #434B5C;\n",
              "      box-shadow: 0px 1px 3px 1px rgba(0, 0, 0, 0.15);\n",
              "      filter: drop-shadow(0px 1px 2px rgba(0, 0, 0, 0.3));\n",
              "      fill: #FFFFFF;\n",
              "    }\n",
              "  </style>\n",
              "\n",
              "      <script>\n",
              "        const buttonEl =\n",
              "          document.querySelector('#df-6efd9b21-d546-4699-9dda-100d7cdab803 button.colab-df-convert');\n",
              "        buttonEl.style.display =\n",
              "          google.colab.kernel.accessAllowed ? 'block' : 'none';\n",
              "\n",
              "        async function convertToInteractive(key) {\n",
              "          const element = document.querySelector('#df-6efd9b21-d546-4699-9dda-100d7cdab803');\n",
              "          const dataTable =\n",
              "            await google.colab.kernel.invokeFunction('convertToInteractive',\n",
              "                                                     [key], {});\n",
              "          if (!dataTable) return;\n",
              "\n",
              "          const docLinkHtml = 'Like what you see? Visit the ' +\n",
              "            '<a target=\"_blank\" href=https://colab.research.google.com/notebooks/data_table.ipynb>data table notebook</a>'\n",
              "            + ' to learn more about interactive tables.';\n",
              "          element.innerHTML = '';\n",
              "          dataTable['output_type'] = 'display_data';\n",
              "          await google.colab.output.renderOutput(dataTable, element);\n",
              "          const docLink = document.createElement('div');\n",
              "          docLink.innerHTML = docLinkHtml;\n",
              "          element.appendChild(docLink);\n",
              "        }\n",
              "      </script>\n",
              "    </div>\n",
              "  </div>\n",
              "  "
            ]
          },
          "metadata": {},
          "execution_count": 15
        }
      ]
    },
    {
      "cell_type": "code",
      "source": [
        "# column names\n",
        "df.columns"
      ],
      "metadata": {
        "colab": {
          "base_uri": "https://localhost:8080/"
        },
        "id": "0zn3t5NGYNqz",
        "outputId": "8823b9f3-e492-488f-f632-80e9022f18fa"
      },
      "execution_count": null,
      "outputs": [
        {
          "output_type": "execute_result",
          "data": {
            "text/plain": [
              "Index(['Unnamed: 0', 'nazev', 'cena', 'odkaz', 'Celková cena',\n",
              "       'Poznámka k ceně', 'ID zakázky', 'Aktualizace', 'Stavba',\n",
              "       'Stav objektu', 'Vlastnictví', 'Podlaží', 'Užitná plocha',\n",
              "       'Plocha podlahová', 'Sklep', 'Datum nastěhování', 'Doprava',\n",
              "       'Energetická náročnost budovy', 'Bezbariérový', 'Vybavení', 'Garáž',\n",
              "       'Výtah', 'Lodžie', 'ID', 'Náklady na bydlení', 'Umístění objektu',\n",
              "       'Voda', 'Topení', 'Plyn', 'Odpad', 'Elektřina', 'Parkování',\n",
              "       'Telekomunikace', 'Balkón', 'Komunikace', 'Terasa', 'Plocha zahrady',\n",
              "       'Ukazatel energetické náročnosti budovy',\n",
              "       'Průkaz energetické náročnosti budovy', 'Rok kolaudace',\n",
              "       'Rok rekonstrukce', 'Plocha zastavěná', 'Typ bytu', 'Bazén',\n",
              "       'Výška stropu', 'Stav', 'Zlevněno', 'Původní cena', 'Počet bytů',\n",
              "       'Půdní vestavba', 'Datum zahájení prodeje', 'Cena',\n",
              "       'Datum ukončení výstavby', 'Plocha bazénu'],\n",
              "      dtype='object')"
            ]
          },
          "metadata": {},
          "execution_count": 16
        }
      ]
    },
    {
      "cell_type": "markdown",
      "source": [
        "# Calculate price_per_meter2"
      ],
      "metadata": {
        "id": "ipNYoa7BcdWr"
      }
    },
    {
      "cell_type": "markdown",
      "source": [
        "### Extract infomation from price"
      ],
      "metadata": {
        "id": "FUZBxiVVa_gf"
      }
    },
    {
      "cell_type": "code",
      "source": [
        "# look at the column\n",
        "df.cena"
      ],
      "metadata": {
        "colab": {
          "base_uri": "https://localhost:8080/"
        },
        "id": "OgSY3aleYTJc",
        "outputId": "f219a481-4f61-4801-e5dc-4f7ada428277"
      },
      "execution_count": null,
      "outputs": [
        {
          "output_type": "execute_result",
          "data": {
            "text/plain": [
              "0     16 000 Kč za měsíc\n",
              "1     25 000 Kč za měsíc\n",
              "2     25 200 Kč za měsíc\n",
              "3     19 999 Kč za měsíc\n",
              "4     25 200 Kč za měsíc\n",
              "             ...        \n",
              "95    31 900 Kč za měsíc\n",
              "96    12 500 Kč za měsíc\n",
              "97    11 000 Kč za měsíc\n",
              "98    19 000 Kč za měsíc\n",
              "99    13 990 Kč za měsíc\n",
              "Name: cena, Length: 100, dtype: object"
            ]
          },
          "metadata": {},
          "execution_count": 17
        }
      ]
    },
    {
      "cell_type": "code",
      "source": [
        "# failed attempt\n",
        "df['cena'].str.extract('(\\d+)')"
      ],
      "metadata": {
        "colab": {
          "base_uri": "https://localhost:8080/",
          "height": 424
        },
        "id": "iNaJjnR1Ynkz",
        "outputId": "e4e4887e-60ea-4418-c811-e320df86af36"
      },
      "execution_count": null,
      "outputs": [
        {
          "output_type": "execute_result",
          "data": {
            "text/plain": [
              "     0\n",
              "0   16\n",
              "1   25\n",
              "2   25\n",
              "3   19\n",
              "4   25\n",
              "..  ..\n",
              "95  31\n",
              "96  12\n",
              "97  11\n",
              "98  19\n",
              "99  13\n",
              "\n",
              "[100 rows x 1 columns]"
            ],
            "text/html": [
              "\n",
              "  <div id=\"df-d05aaf98-f60c-406f-bcb1-0bf29dcc0088\">\n",
              "    <div class=\"colab-df-container\">\n",
              "      <div>\n",
              "<style scoped>\n",
              "    .dataframe tbody tr th:only-of-type {\n",
              "        vertical-align: middle;\n",
              "    }\n",
              "\n",
              "    .dataframe tbody tr th {\n",
              "        vertical-align: top;\n",
              "    }\n",
              "\n",
              "    .dataframe thead th {\n",
              "        text-align: right;\n",
              "    }\n",
              "</style>\n",
              "<table border=\"1\" class=\"dataframe\">\n",
              "  <thead>\n",
              "    <tr style=\"text-align: right;\">\n",
              "      <th></th>\n",
              "      <th>0</th>\n",
              "    </tr>\n",
              "  </thead>\n",
              "  <tbody>\n",
              "    <tr>\n",
              "      <th>0</th>\n",
              "      <td>16</td>\n",
              "    </tr>\n",
              "    <tr>\n",
              "      <th>1</th>\n",
              "      <td>25</td>\n",
              "    </tr>\n",
              "    <tr>\n",
              "      <th>2</th>\n",
              "      <td>25</td>\n",
              "    </tr>\n",
              "    <tr>\n",
              "      <th>3</th>\n",
              "      <td>19</td>\n",
              "    </tr>\n",
              "    <tr>\n",
              "      <th>4</th>\n",
              "      <td>25</td>\n",
              "    </tr>\n",
              "    <tr>\n",
              "      <th>...</th>\n",
              "      <td>...</td>\n",
              "    </tr>\n",
              "    <tr>\n",
              "      <th>95</th>\n",
              "      <td>31</td>\n",
              "    </tr>\n",
              "    <tr>\n",
              "      <th>96</th>\n",
              "      <td>12</td>\n",
              "    </tr>\n",
              "    <tr>\n",
              "      <th>97</th>\n",
              "      <td>11</td>\n",
              "    </tr>\n",
              "    <tr>\n",
              "      <th>98</th>\n",
              "      <td>19</td>\n",
              "    </tr>\n",
              "    <tr>\n",
              "      <th>99</th>\n",
              "      <td>13</td>\n",
              "    </tr>\n",
              "  </tbody>\n",
              "</table>\n",
              "<p>100 rows × 1 columns</p>\n",
              "</div>\n",
              "      <button class=\"colab-df-convert\" onclick=\"convertToInteractive('df-d05aaf98-f60c-406f-bcb1-0bf29dcc0088')\"\n",
              "              title=\"Convert this dataframe to an interactive table.\"\n",
              "              style=\"display:none;\">\n",
              "        \n",
              "  <svg xmlns=\"http://www.w3.org/2000/svg\" height=\"24px\"viewBox=\"0 0 24 24\"\n",
              "       width=\"24px\">\n",
              "    <path d=\"M0 0h24v24H0V0z\" fill=\"none\"/>\n",
              "    <path d=\"M18.56 5.44l.94 2.06.94-2.06 2.06-.94-2.06-.94-.94-2.06-.94 2.06-2.06.94zm-11 1L8.5 8.5l.94-2.06 2.06-.94-2.06-.94L8.5 2.5l-.94 2.06-2.06.94zm10 10l.94 2.06.94-2.06 2.06-.94-2.06-.94-.94-2.06-.94 2.06-2.06.94z\"/><path d=\"M17.41 7.96l-1.37-1.37c-.4-.4-.92-.59-1.43-.59-.52 0-1.04.2-1.43.59L10.3 9.45l-7.72 7.72c-.78.78-.78 2.05 0 2.83L4 21.41c.39.39.9.59 1.41.59.51 0 1.02-.2 1.41-.59l7.78-7.78 2.81-2.81c.8-.78.8-2.07 0-2.86zM5.41 20L4 18.59l7.72-7.72 1.47 1.35L5.41 20z\"/>\n",
              "  </svg>\n",
              "      </button>\n",
              "      \n",
              "  <style>\n",
              "    .colab-df-container {\n",
              "      display:flex;\n",
              "      flex-wrap:wrap;\n",
              "      gap: 12px;\n",
              "    }\n",
              "\n",
              "    .colab-df-convert {\n",
              "      background-color: #E8F0FE;\n",
              "      border: none;\n",
              "      border-radius: 50%;\n",
              "      cursor: pointer;\n",
              "      display: none;\n",
              "      fill: #1967D2;\n",
              "      height: 32px;\n",
              "      padding: 0 0 0 0;\n",
              "      width: 32px;\n",
              "    }\n",
              "\n",
              "    .colab-df-convert:hover {\n",
              "      background-color: #E2EBFA;\n",
              "      box-shadow: 0px 1px 2px rgba(60, 64, 67, 0.3), 0px 1px 3px 1px rgba(60, 64, 67, 0.15);\n",
              "      fill: #174EA6;\n",
              "    }\n",
              "\n",
              "    [theme=dark] .colab-df-convert {\n",
              "      background-color: #3B4455;\n",
              "      fill: #D2E3FC;\n",
              "    }\n",
              "\n",
              "    [theme=dark] .colab-df-convert:hover {\n",
              "      background-color: #434B5C;\n",
              "      box-shadow: 0px 1px 3px 1px rgba(0, 0, 0, 0.15);\n",
              "      filter: drop-shadow(0px 1px 2px rgba(0, 0, 0, 0.3));\n",
              "      fill: #FFFFFF;\n",
              "    }\n",
              "  </style>\n",
              "\n",
              "      <script>\n",
              "        const buttonEl =\n",
              "          document.querySelector('#df-d05aaf98-f60c-406f-bcb1-0bf29dcc0088 button.colab-df-convert');\n",
              "        buttonEl.style.display =\n",
              "          google.colab.kernel.accessAllowed ? 'block' : 'none';\n",
              "\n",
              "        async function convertToInteractive(key) {\n",
              "          const element = document.querySelector('#df-d05aaf98-f60c-406f-bcb1-0bf29dcc0088');\n",
              "          const dataTable =\n",
              "            await google.colab.kernel.invokeFunction('convertToInteractive',\n",
              "                                                     [key], {});\n",
              "          if (!dataTable) return;\n",
              "\n",
              "          const docLinkHtml = 'Like what you see? Visit the ' +\n",
              "            '<a target=\"_blank\" href=https://colab.research.google.com/notebooks/data_table.ipynb>data table notebook</a>'\n",
              "            + ' to learn more about interactive tables.';\n",
              "          element.innerHTML = '';\n",
              "          dataTable['output_type'] = 'display_data';\n",
              "          await google.colab.output.renderOutput(dataTable, element);\n",
              "          const docLink = document.createElement('div');\n",
              "          docLink.innerHTML = docLinkHtml;\n",
              "          element.appendChild(docLink);\n",
              "        }\n",
              "      </script>\n",
              "    </div>\n",
              "  </div>\n",
              "  "
            ]
          },
          "metadata": {},
          "execution_count": 18
        }
      ]
    },
    {
      "cell_type": "code",
      "source": [
        "df['price']=df['cena'].str.replace('\\xa0', '')\n",
        "df['price']"
      ],
      "metadata": {
        "colab": {
          "base_uri": "https://localhost:8080/"
        },
        "id": "S6ynYc4HZdXy",
        "outputId": "54fb0028-d2e2-410b-cd48-383a8375dc7a"
      },
      "execution_count": null,
      "outputs": [
        {
          "output_type": "execute_result",
          "data": {
            "text/plain": [
              "0     16000Kč za měsíc\n",
              "1     25000Kč za měsíc\n",
              "2     25200Kč za měsíc\n",
              "3     19999Kč za měsíc\n",
              "4     25200Kč za měsíc\n",
              "            ...       \n",
              "95    31900Kč za měsíc\n",
              "96    12500Kč za měsíc\n",
              "97    11000Kč za měsíc\n",
              "98    19000Kč za měsíc\n",
              "99    13990Kč za měsíc\n",
              "Name: price, Length: 100, dtype: object"
            ]
          },
          "metadata": {},
          "execution_count": 19
        }
      ]
    },
    {
      "cell_type": "code",
      "source": [
        "df['price'] = df['price'].apply(lambda x: x.split(\"Kč za měsíc\")[0])\n",
        "df['price']"
      ],
      "metadata": {
        "colab": {
          "base_uri": "https://localhost:8080/"
        },
        "id": "6HON0bV4YykS",
        "outputId": "5531c6fa-426c-430a-848c-4dbd3e637ac4"
      },
      "execution_count": null,
      "outputs": [
        {
          "output_type": "execute_result",
          "data": {
            "text/plain": [
              "0     16000\n",
              "1     25000\n",
              "2     25200\n",
              "3     19999\n",
              "4     25200\n",
              "      ...  \n",
              "95    31900\n",
              "96    12500\n",
              "97    11000\n",
              "98    19000\n",
              "99    13990\n",
              "Name: price, Length: 100, dtype: object"
            ]
          },
          "metadata": {},
          "execution_count": 20
        }
      ]
    },
    {
      "cell_type": "code",
      "source": [
        "df['price']=df['price'].astype(int)\n",
        "df['price']"
      ],
      "metadata": {
        "colab": {
          "base_uri": "https://localhost:8080/"
        },
        "id": "BnC-XwJNZ7mm",
        "outputId": "af114d8e-8d53-4783-ed71-a1d33d889841"
      },
      "execution_count": null,
      "outputs": [
        {
          "output_type": "execute_result",
          "data": {
            "text/plain": [
              "0     16000\n",
              "1     25000\n",
              "2     25200\n",
              "3     19999\n",
              "4     25200\n",
              "      ...  \n",
              "95    31900\n",
              "96    12500\n",
              "97    11000\n",
              "98    19000\n",
              "99    13990\n",
              "Name: price, Length: 100, dtype: int64"
            ]
          },
          "metadata": {},
          "execution_count": 21
        }
      ]
    },
    {
      "cell_type": "markdown",
      "source": [
        "### Extract infomation from floor size"
      ],
      "metadata": {
        "id": "VUckILW8bcdg"
      }
    },
    {
      "cell_type": "code",
      "source": [
        "df= df.rename(columns= {'Užitná plocha':'floor_space'})"
      ],
      "metadata": {
        "id": "04ateO-iWp4A"
      },
      "execution_count": null,
      "outputs": []
    },
    {
      "cell_type": "code",
      "source": [
        "df['floor_space']"
      ],
      "metadata": {
        "colab": {
          "base_uri": "https://localhost:8080/"
        },
        "id": "IR3h_jiIc_yI",
        "outputId": "43a60365-ee18-44b3-853e-908a023af8ee"
      },
      "execution_count": null,
      "outputs": [
        {
          "output_type": "execute_result",
          "data": {
            "text/plain": [
              "0     50m2\n",
              "1     40m2\n",
              "2     50m2\n",
              "3     60m2\n",
              "4     50m2\n",
              "      ... \n",
              "95    65m2\n",
              "96    29m2\n",
              "97    30m2\n",
              "98    54m2\n",
              "99    31m2\n",
              "Name: floor_space, Length: 100, dtype: object"
            ]
          },
          "metadata": {},
          "execution_count": 23
        }
      ]
    },
    {
      "cell_type": "code",
      "source": [
        "df['floor_space']= df['floor_space'].str.replace(\"m2\",\"\")\n",
        "df['floor_space']=df['floor_space'].astype(float)\n",
        "df['floor_space']"
      ],
      "metadata": {
        "colab": {
          "base_uri": "https://localhost:8080/"
        },
        "id": "W1OVfgqabbV-",
        "outputId": "4c8b91a4-b011-4900-aea6-077cdf3e4204"
      },
      "execution_count": null,
      "outputs": [
        {
          "output_type": "execute_result",
          "data": {
            "text/plain": [
              "0     50.0\n",
              "1     40.0\n",
              "2     50.0\n",
              "3     60.0\n",
              "4     50.0\n",
              "      ... \n",
              "95    65.0\n",
              "96    29.0\n",
              "97    30.0\n",
              "98    54.0\n",
              "99    31.0\n",
              "Name: floor_space, Length: 100, dtype: float64"
            ]
          },
          "metadata": {},
          "execution_count": 24
        }
      ]
    },
    {
      "cell_type": "code",
      "source": [
        "df['price_per_meter2']= df['price'] / df['floor_space']\n",
        "df['price_per_meter2']= df['price_per_meter2'].round(1)\n",
        "df['price_per_meter2']"
      ],
      "metadata": {
        "colab": {
          "base_uri": "https://localhost:8080/"
        },
        "id": "wvJOgI_vbk98",
        "outputId": "152f8243-bbc3-4579-f044-47eb3cd20017"
      },
      "execution_count": null,
      "outputs": [
        {
          "output_type": "execute_result",
          "data": {
            "text/plain": [
              "0     320.0\n",
              "1     625.0\n",
              "2     504.0\n",
              "3     333.3\n",
              "4     504.0\n",
              "      ...  \n",
              "95    490.8\n",
              "96    431.0\n",
              "97    366.7\n",
              "98    351.9\n",
              "99    451.3\n",
              "Name: price_per_meter2, Length: 100, dtype: float64"
            ]
          },
          "metadata": {},
          "execution_count": 25
        }
      ]
    },
    {
      "cell_type": "markdown",
      "source": [
        "# Finding outlier in price_per_meter2"
      ],
      "metadata": {
        "id": "Ug5kwwoYaPEI"
      }
    },
    {
      "cell_type": "code",
      "source": [
        "df['price_per_meter2']"
      ],
      "metadata": {
        "colab": {
          "base_uri": "https://localhost:8080/"
        },
        "id": "RfydZUp7Z1BV",
        "outputId": "c48872ee-3a85-4196-9a4c-c7c3572c1c54"
      },
      "execution_count": null,
      "outputs": [
        {
          "output_type": "execute_result",
          "data": {
            "text/plain": [
              "0     320.0\n",
              "1     625.0\n",
              "2     504.0\n",
              "3     333.3\n",
              "4     504.0\n",
              "      ...  \n",
              "95    490.8\n",
              "96    431.0\n",
              "97    366.7\n",
              "98    351.9\n",
              "99    451.3\n",
              "Name: price_per_meter2, Length: 100, dtype: float64"
            ]
          },
          "metadata": {},
          "execution_count": 26
        }
      ]
    },
    {
      "cell_type": "code",
      "source": [
        "df['price_per_meter2'].hist()"
      ],
      "metadata": {
        "colab": {
          "base_uri": "https://localhost:8080/",
          "height": 448
        },
        "id": "sT_RT_XvZ8BP",
        "outputId": "0936bab4-d328-4d98-bd6c-ca6372c73a6f"
      },
      "execution_count": null,
      "outputs": [
        {
          "output_type": "execute_result",
          "data": {
            "text/plain": [
              "<Axes: >"
            ]
          },
          "metadata": {},
          "execution_count": 27
        },
        {
          "output_type": "display_data",
          "data": {
            "text/plain": [
              "<Figure size 640x480 with 1 Axes>"
            ],
            "image/png": "[encoded data removed]"
          },
          "metadata": {}
        }
      ]
    },
    {
      "cell_type": "code",
      "source": [
        "# Create a boxplot\n",
        "fig, ax = plt.subplots()\n",
        "ax.boxplot(df['price_per_meter2'])\n",
        "ax.set_xlabel('Price per meter squared')\n",
        "# Show the plot\n",
        "plt.show()"
      ],
      "metadata": {
        "colab": {
          "base_uri": "https://localhost:8080/",
          "height": 449
        },
        "id": "u-MWMtbfaEbR",
        "outputId": "390c6990-101e-42c0-cb8e-52ad451c2bfc"
      },
      "execution_count": null,
      "outputs": [
        {
          "output_type": "display_data",
          "data": {
            "text/plain": [
              "<Figure size 640x480 with 1 Axes>"
            ],
            "image/png": "[encoded data removed]"
          },
          "metadata": {}
        }
      ]
    },
    {
      "cell_type": "markdown",
      "source": [
        "## Calculate z-score"
      ],
      "metadata": {
        "id": "YNgpQTYSbP-e"
      }
    },
    {
      "cell_type": "code",
      "source": [
        "average_price_per_meter2 = df['price_per_meter2'].mean()\n",
        "average_price_per_meter2"
      ],
      "metadata": {
        "colab": {
          "base_uri": "https://localhost:8080/"
        },
        "id": "XuZOxso2aaOi",
        "outputId": "7ffcf857-11d3-4761-a3e3-efb73040de84"
      },
      "execution_count": null,
      "outputs": [
        {
          "output_type": "execute_result",
          "data": {
            "text/plain": [
              "445.492"
            ]
          },
          "metadata": {},
          "execution_count": 29
        }
      ]
    },
    {
      "cell_type": "code",
      "source": [
        "std_dev_price_per_meter2 = df['price_per_meter2'].std()\n",
        "std_dev_price_per_meter2"
      ],
      "metadata": {
        "colab": {
          "base_uri": "https://localhost:8080/"
        },
        "id": "9epkKa6HarCT",
        "outputId": "eb63055e-a6a9-4d78-cdc4-3b60464edc66"
      },
      "execution_count": null,
      "outputs": [
        {
          "output_type": "execute_result",
          "data": {
            "text/plain": [
              "151.0490419256828"
            ]
          },
          "metadata": {},
          "execution_count": 30
        }
      ]
    },
    {
      "cell_type": "code",
      "source": [
        "df['price_per_meter2_z_score']=df['price_per_meter2'].apply(lambda x: (x - average_price_per_meter2)  / std_dev_price_per_meter2 )\n",
        "df['price_per_meter2_z_score']"
      ],
      "metadata": {
        "colab": {
          "base_uri": "https://localhost:8080/"
        },
        "id": "ntBgPP5uayIh",
        "outputId": "16196151-2c39-41de-edce-744abc2b55ee"
      },
      "execution_count": null,
      "outputs": [
        {
          "output_type": "execute_result",
          "data": {
            "text/plain": [
              "0    -0.830803\n",
              "1     1.188409\n",
              "2     0.387344\n",
              "3    -0.742752\n",
              "4     0.387344\n",
              "        ...   \n",
              "95    0.299956\n",
              "96   -0.095942\n",
              "97   -0.521632\n",
              "98   -0.619613\n",
              "99    0.038451\n",
              "Name: price_per_meter2_z_score, Length: 100, dtype: float64"
            ]
          },
          "metadata": {},
          "execution_count": 31
        }
      ]
    },
    {
      "cell_type": "code",
      "source": [
        "is_not_between =  ~df['price_per_meter2_z_score'].between(-3,3)\n",
        "df[is_not_between][['nazev','odkaz','cena', 'price_per_meter2', 'price_per_meter2_z_score']]"
      ],
      "metadata": {
        "colab": {
          "base_uri": "https://localhost:8080/",
          "height": 112
        },
        "id": "aL-fcp71bHvx",
        "outputId": "4dfc4d06-2552-490d-fe14-d9aecf19d599"
      },
      "execution_count": null,
      "outputs": [
        {
          "output_type": "execute_result",
          "data": {
            "text/plain": [
              "                                                nazev  \\\n",
              "14  Pronájem bytu 1+kk 16 m²Vodičkova, Praha 1 - N...   \n",
              "36  Pronájem bytu 1+kk 30 m²Holečkova, Praha 5 - K...   \n",
              "\n",
              "                                                odkaz                cena  \\\n",
              "14  https://www.sreality.cz/detail/pronajem/byt/1+...  18 000 Kč za měsíc   \n",
              "36  https://www.sreality.cz/detail/pronajem/byt/1+...  32 000 Kč za měsíc   \n",
              "\n",
              "    price_per_meter2  price_per_meter2_z_score  \n",
              "14            1125.0                  4.498592  \n",
              "36            1066.7                  4.112625  "
            ],
            "text/html": [
              "\n",
              "  <div id=\"df-966e374a-baa5-4d66-88b0-7193810b4e0a\">\n",
              "    <div class=\"colab-df-container\">\n",
              "      <div>\n",
              "<style scoped>\n",
              "    .dataframe tbody tr th:only-of-type {\n",
              "        vertical-align: middle;\n",
              "    }\n",
              "\n",
              "    .dataframe tbody tr th {\n",
              "        vertical-align: top;\n",
              "    }\n",
              "\n",
              "    .dataframe thead th {\n",
              "        text-align: right;\n",
              "    }\n",
              "</style>\n",
              "<table border=\"1\" class=\"dataframe\">\n",
              "  <thead>\n",
              "    <tr style=\"text-align: right;\">\n",
              "      <th></th>\n",
              "      <th>nazev</th>\n",
              "      <th>odkaz</th>\n",
              "      <th>cena</th>\n",
              "      <th>price_per_meter2</th>\n",
              "      <th>price_per_meter2_z_score</th>\n",
              "    </tr>\n",
              "  </thead>\n",
              "  <tbody>\n",
              "    <tr>\n",
              "      <th>14</th>\n",
              "      <td>Pronájem bytu 1+kk 16 m²Vodičkova, Praha 1 - N...</td>\n",
              "      <td>https://www.sreality.cz/detail/pronajem/byt/1+...</td>\n",
              "      <td>18 000 Kč za měsíc</td>\n",
              "      <td>1125.0</td>\n",
              "      <td>4.498592</td>\n",
              "    </tr>\n",
              "    <tr>\n",
              "      <th>36</th>\n",
              "      <td>Pronájem bytu 1+kk 30 m²Holečkova, Praha 5 - K...</td>\n",
              "      <td>https://www.sreality.cz/detail/pronajem/byt/1+...</td>\n",
              "      <td>32 000 Kč za měsíc</td>\n",
              "      <td>1066.7</td>\n",
              "      <td>4.112625</td>\n",
              "    </tr>\n",
              "  </tbody>\n",
              "</table>\n",
              "</div>\n",
              "      <button class=\"colab-df-convert\" onclick=\"convertToInteractive('df-966e374a-baa5-4d66-88b0-7193810b4e0a')\"\n",
              "              title=\"Convert this dataframe to an interactive table.\"\n",
              "              style=\"display:none;\">\n",
              "        \n",
              "  <svg xmlns=\"http://www.w3.org/2000/svg\" height=\"24px\"viewBox=\"0 0 24 24\"\n",
              "       width=\"24px\">\n",
              "    <path d=\"M0 0h24v24H0V0z\" fill=\"none\"/>\n",
              "    <path d=\"M18.56 5.44l.94 2.06.94-2.06 2.06-.94-2.06-.94-.94-2.06-.94 2.06-2.06.94zm-11 1L8.5 8.5l.94-2.06 2.06-.94-2.06-.94L8.5 2.5l-.94 2.06-2.06.94zm10 10l.94 2.06.94-2.06 2.06-.94-2.06-.94-.94-2.06-.94 2.06-2.06.94z\"/><path d=\"M17.41 7.96l-1.37-1.37c-.4-.4-.92-.59-1.43-.59-.52 0-1.04.2-1.43.59L10.3 9.45l-7.72 7.72c-.78.78-.78 2.05 0 2.83L4 21.41c.39.39.9.59 1.41.59.51 0 1.02-.2 1.41-.59l7.78-7.78 2.81-2.81c.8-.78.8-2.07 0-2.86zM5.41 20L4 18.59l7.72-7.72 1.47 1.35L5.41 20z\"/>\n",
              "  </svg>\n",
              "      </button>\n",
              "      \n",
              "  <style>\n",
              "    .colab-df-container {\n",
              "      display:flex;\n",
              "      flex-wrap:wrap;\n",
              "      gap: 12px;\n",
              "    }\n",
              "\n",
              "    .colab-df-convert {\n",
              "      background-color: #E8F0FE;\n",
              "      border: none;\n",
              "      border-radius: 50%;\n",
              "      cursor: pointer;\n",
              "      display: none;\n",
              "      fill: #1967D2;\n",
              "      height: 32px;\n",
              "      padding: 0 0 0 0;\n",
              "      width: 32px;\n",
              "    }\n",
              "\n",
              "    .colab-df-convert:hover {\n",
              "      background-color: #E2EBFA;\n",
              "      box-shadow: 0px 1px 2px rgba(60, 64, 67, 0.3), 0px 1px 3px 1px rgba(60, 64, 67, 0.15);\n",
              "      fill: #174EA6;\n",
              "    }\n",
              "\n",
              "    [theme=dark] .colab-df-convert {\n",
              "      background-color: #3B4455;\n",
              "      fill: #D2E3FC;\n",
              "    }\n",
              "\n",
              "    [theme=dark] .colab-df-convert:hover {\n",
              "      background-color: #434B5C;\n",
              "      box-shadow: 0px 1px 3px 1px rgba(0, 0, 0, 0.15);\n",
              "      filter: drop-shadow(0px 1px 2px rgba(0, 0, 0, 0.3));\n",
              "      fill: #FFFFFF;\n",
              "    }\n",
              "  </style>\n",
              "\n",
              "      <script>\n",
              "        const buttonEl =\n",
              "          document.querySelector('#df-966e374a-baa5-4d66-88b0-7193810b4e0a button.colab-df-convert');\n",
              "        buttonEl.style.display =\n",
              "          google.colab.kernel.accessAllowed ? 'block' : 'none';\n",
              "\n",
              "        async function convertToInteractive(key) {\n",
              "          const element = document.querySelector('#df-966e374a-baa5-4d66-88b0-7193810b4e0a');\n",
              "          const dataTable =\n",
              "            await google.colab.kernel.invokeFunction('convertToInteractive',\n",
              "                                                     [key], {});\n",
              "          if (!dataTable) return;\n",
              "\n",
              "          const docLinkHtml = 'Like what you see? Visit the ' +\n",
              "            '<a target=\"_blank\" href=https://colab.research.google.com/notebooks/data_table.ipynb>data table notebook</a>'\n",
              "            + ' to learn more about interactive tables.';\n",
              "          element.innerHTML = '';\n",
              "          dataTable['output_type'] = 'display_data';\n",
              "          await google.colab.output.renderOutput(dataTable, element);\n",
              "          const docLink = document.createElement('div');\n",
              "          docLink.innerHTML = docLinkHtml;\n",
              "          element.appendChild(docLink);\n",
              "        }\n",
              "      </script>\n",
              "    </div>\n",
              "  </div>\n",
              "  "
            ]
          },
          "metadata": {},
          "execution_count": 32
        }
      ]
    },
    {
      "cell_type": "markdown",
      "source": [
        "## Identify based on IQR"
      ],
      "metadata": {
        "id": "afKAGXFLcRQK"
      }
    },
    {
      "cell_type": "code",
      "source": [
        "# calculate the IQR, lower bound, and upper bound\n",
        "Q1 = df['price_per_meter2'].quantile(0.25)\n",
        "Q3 = df['price_per_meter2'].quantile(0.75)\n",
        "IQR = Q3 - Q1\n",
        "lower_bound = Q1 - 1.5 * IQR\n",
        "upper_bound = Q3 + 1.5 * IQR"
      ],
      "metadata": {
        "id": "nekr7N6ycQC_"
      },
      "execution_count": null,
      "outputs": []
    },
    {
      "cell_type": "code",
      "source": [
        "print(f\"{lower_bound=}\")\n",
        "print(f\"{upper_bound=}\")"
      ],
      "metadata": {
        "colab": {
          "base_uri": "https://localhost:8080/"
        },
        "id": "ujri2F81doe6",
        "outputId": "3b726e57-f655-4b84-cdc0-f13880b10f08"
      },
      "execution_count": null,
      "outputs": [
        {
          "output_type": "stream",
          "name": "stdout",
          "text": [
            "lower_bound=111.56249999999994\n",
            "upper_bound=739.4625000000001\n"
          ]
        }
      ]
    },
    {
      "cell_type": "code",
      "source": [
        "is_not_between_IQR = ~df['price_per_meter2'].between(lower_bound, upper_bound)\n",
        "df[is_not_between_IQR][['nazev','odkaz','cena','price_per_meter2', 'price_per_meter2_z_score']]"
      ],
      "metadata": {
        "colab": {
          "base_uri": "https://localhost:8080/",
          "height": 175
        },
        "id": "2HN2lgCFdRi7",
        "outputId": "ca5e8f95-bcb5-4548-b901-41d3c7a16bbe"
      },
      "execution_count": null,
      "outputs": [
        {
          "output_type": "execute_result",
          "data": {
            "text/plain": [
              "                                                nazev  \\\n",
              "14  Pronájem bytu 1+kk 16 m²Vodičkova, Praha 1 - N...   \n",
              "29  Pronájem bytu 1+kk 41 m²Italská, Praha 2 - Vin...   \n",
              "36  Pronájem bytu 1+kk 30 m²Holečkova, Praha 5 - K...   \n",
              "77  Pronájem bytu 1+1 38 m²Holečkova, Praha 5 - Ko...   \n",
              "\n",
              "                                                odkaz                cena  \\\n",
              "14  https://www.sreality.cz/detail/pronajem/byt/1+...  18 000 Kč za měsíc   \n",
              "29  https://www.sreality.cz/detail/pronajem/byt/1+...  31 250 Kč za měsíc   \n",
              "36  https://www.sreality.cz/detail/pronajem/byt/1+...  32 000 Kč za měsíc   \n",
              "77  https://www.sreality.cz/detail/pronajem/byt/1+...  33 000 Kč za měsíc   \n",
              "\n",
              "    price_per_meter2  price_per_meter2_z_score  \n",
              "14            1125.0                  4.498592  \n",
              "29             762.2                  2.096723  \n",
              "36            1066.7                  4.112625  \n",
              "77             868.4                  2.799806  "
            ],
            "text/html": [
              "\n",
              "  <div id=\"df-b862ab1c-752b-482a-bafe-a5976cc8a498\">\n",
              "    <div class=\"colab-df-container\">\n",
              "      <div>\n",
              "<style scoped>\n",
              "    .dataframe tbody tr th:only-of-type {\n",
              "        vertical-align: middle;\n",
              "    }\n",
              "\n",
              "    .dataframe tbody tr th {\n",
              "        vertical-align: top;\n",
              "    }\n",
              "\n",
              "    .dataframe thead th {\n",
              "        text-align: right;\n",
              "    }\n",
              "</style>\n",
              "<table border=\"1\" class=\"dataframe\">\n",
              "  <thead>\n",
              "    <tr style=\"text-align: right;\">\n",
              "      <th></th>\n",
              "      <th>nazev</th>\n",
              "      <th>odkaz</th>\n",
              "      <th>cena</th>\n",
              "      <th>price_per_meter2</th>\n",
              "      <th>price_per_meter2_z_score</th>\n",
              "    </tr>\n",
              "  </thead>\n",
              "  <tbody>\n",
              "    <tr>\n",
              "      <th>14</th>\n",
              "      <td>Pronájem bytu 1+kk 16 m²Vodičkova, Praha 1 - N...</td>\n",
              "      <td>https://www.sreality.cz/detail/pronajem/byt/1+...</td>\n",
              "      <td>18 000 Kč za měsíc</td>\n",
              "      <td>1125.0</td>\n",
              "      <td>4.498592</td>\n",
              "    </tr>\n",
              "    <tr>\n",
              "      <th>29</th>\n",
              "      <td>Pronájem bytu 1+kk 41 m²Italská, Praha 2 - Vin...</td>\n",
              "      <td>https://www.sreality.cz/detail/pronajem/byt/1+...</td>\n",
              "      <td>31 250 Kč za měsíc</td>\n",
              "      <td>762.2</td>\n",
              "      <td>2.096723</td>\n",
              "    </tr>\n",
              "    <tr>\n",
              "      <th>36</th>\n",
              "      <td>Pronájem bytu 1+kk 30 m²Holečkova, Praha 5 - K...</td>\n",
              "      <td>https://www.sreality.cz/detail/pronajem/byt/1+...</td>\n",
              "      <td>32 000 Kč za měsíc</td>\n",
              "      <td>1066.7</td>\n",
              "      <td>4.112625</td>\n",
              "    </tr>\n",
              "    <tr>\n",
              "      <th>77</th>\n",
              "      <td>Pronájem bytu 1+1 38 m²Holečkova, Praha 5 - Ko...</td>\n",
              "      <td>https://www.sreality.cz/detail/pronajem/byt/1+...</td>\n",
              "      <td>33 000 Kč za měsíc</td>\n",
              "      <td>868.4</td>\n",
              "      <td>2.799806</td>\n",
              "    </tr>\n",
              "  </tbody>\n",
              "</table>\n",
              "</div>\n",
              "      <button class=\"colab-df-convert\" onclick=\"convertToInteractive('df-b862ab1c-752b-482a-bafe-a5976cc8a498')\"\n",
              "              title=\"Convert this dataframe to an interactive table.\"\n",
              "              style=\"display:none;\">\n",
              "        \n",
              "  <svg xmlns=\"http://www.w3.org/2000/svg\" height=\"24px\"viewBox=\"0 0 24 24\"\n",
              "       width=\"24px\">\n",
              "    <path d=\"M0 0h24v24H0V0z\" fill=\"none\"/>\n",
              "    <path d=\"M18.56 5.44l.94 2.06.94-2.06 2.06-.94-2.06-.94-.94-2.06-.94 2.06-2.06.94zm-11 1L8.5 8.5l.94-2.06 2.06-.94-2.06-.94L8.5 2.5l-.94 2.06-2.06.94zm10 10l.94 2.06.94-2.06 2.06-.94-2.06-.94-.94-2.06-.94 2.06-2.06.94z\"/><path d=\"M17.41 7.96l-1.37-1.37c-.4-.4-.92-.59-1.43-.59-.52 0-1.04.2-1.43.59L10.3 9.45l-7.72 7.72c-.78.78-.78 2.05 0 2.83L4 21.41c.39.39.9.59 1.41.59.51 0 1.02-.2 1.41-.59l7.78-7.78 2.81-2.81c.8-.78.8-2.07 0-2.86zM5.41 20L4 18.59l7.72-7.72 1.47 1.35L5.41 20z\"/>\n",
              "  </svg>\n",
              "      </button>\n",
              "      \n",
              "  <style>\n",
              "    .colab-df-container {\n",
              "      display:flex;\n",
              "      flex-wrap:wrap;\n",
              "      gap: 12px;\n",
              "    }\n",
              "\n",
              "    .colab-df-convert {\n",
              "      background-color: #E8F0FE;\n",
              "      border: none;\n",
              "      border-radius: 50%;\n",
              "      cursor: pointer;\n",
              "      display: none;\n",
              "      fill: #1967D2;\n",
              "      height: 32px;\n",
              "      padding: 0 0 0 0;\n",
              "      width: 32px;\n",
              "    }\n",
              "\n",
              "    .colab-df-convert:hover {\n",
              "      background-color: #E2EBFA;\n",
              "      box-shadow: 0px 1px 2px rgba(60, 64, 67, 0.3), 0px 1px 3px 1px rgba(60, 64, 67, 0.15);\n",
              "      fill: #174EA6;\n",
              "    }\n",
              "\n",
              "    [theme=dark] .colab-df-convert {\n",
              "      background-color: #3B4455;\n",
              "      fill: #D2E3FC;\n",
              "    }\n",
              "\n",
              "    [theme=dark] .colab-df-convert:hover {\n",
              "      background-color: #434B5C;\n",
              "      box-shadow: 0px 1px 3px 1px rgba(0, 0, 0, 0.15);\n",
              "      filter: drop-shadow(0px 1px 2px rgba(0, 0, 0, 0.3));\n",
              "      fill: #FFFFFF;\n",
              "    }\n",
              "  </style>\n",
              "\n",
              "      <script>\n",
              "        const buttonEl =\n",
              "          document.querySelector('#df-b862ab1c-752b-482a-bafe-a5976cc8a498 button.colab-df-convert');\n",
              "        buttonEl.style.display =\n",
              "          google.colab.kernel.accessAllowed ? 'block' : 'none';\n",
              "\n",
              "        async function convertToInteractive(key) {\n",
              "          const element = document.querySelector('#df-b862ab1c-752b-482a-bafe-a5976cc8a498');\n",
              "          const dataTable =\n",
              "            await google.colab.kernel.invokeFunction('convertToInteractive',\n",
              "                                                     [key], {});\n",
              "          if (!dataTable) return;\n",
              "\n",
              "          const docLinkHtml = 'Like what you see? Visit the ' +\n",
              "            '<a target=\"_blank\" href=https://colab.research.google.com/notebooks/data_table.ipynb>data table notebook</a>'\n",
              "            + ' to learn more about interactive tables.';\n",
              "          element.innerHTML = '';\n",
              "          dataTable['output_type'] = 'display_data';\n",
              "          await google.colab.output.renderOutput(dataTable, element);\n",
              "          const docLink = document.createElement('div');\n",
              "          docLink.innerHTML = docLinkHtml;\n",
              "          element.appendChild(docLink);\n",
              "        }\n",
              "      </script>\n",
              "    </div>\n",
              "  </div>\n",
              "  "
            ]
          },
          "metadata": {},
          "execution_count": 35
        }
      ]
    },
    {
      "cell_type": "markdown",
      "source": [
        "# Missing values"
      ],
      "metadata": {
        "id": "CZLRS69QeLdR"
      }
    },
    {
      "cell_type": "code",
      "source": [
        "df['Výtah']"
      ],
      "metadata": {
        "colab": {
          "base_uri": "https://localhost:8080/"
        },
        "id": "kJqzNyhgeSk1",
        "outputId": "334112e9-fbda-442c-c00a-b07fa1a0bc07"
      },
      "execution_count": null,
      "outputs": [
        {
          "output_type": "execute_result",
          "data": {
            "text/plain": [
              "0    NaN\n",
              "1    NaN\n",
              "2    NaN\n",
              "3    NaN\n",
              "4    NaN\n",
              "      ..\n",
              "95   NaN\n",
              "96   NaN\n",
              "97   NaN\n",
              "98   NaN\n",
              "99   NaN\n",
              "Name: Výtah, Length: 100, dtype: float64"
            ]
          },
          "metadata": {},
          "execution_count": 36
        }
      ]
    },
    {
      "cell_type": "code",
      "source": [
        "df['Výtah'].isnull().all()"
      ],
      "metadata": {
        "colab": {
          "base_uri": "https://localhost:8080/"
        },
        "id": "DAMF2jY5eT3E",
        "outputId": "bffb3c65-b1a4-47ff-f802-1b5bd0f0cb50"
      },
      "execution_count": null,
      "outputs": [
        {
          "output_type": "execute_result",
          "data": {
            "text/plain": [
              "True"
            ]
          },
          "metadata": {},
          "execution_count": 37
        }
      ]
    },
    {
      "cell_type": "code",
      "source": [
        "df['Sklep'].value_counts()"
      ],
      "metadata": {
        "colab": {
          "base_uri": "https://localhost:8080/"
        },
        "id": "ebqi0e4reRT9",
        "outputId": "a0b4c68e-f000-4f16-df9c-b483ba6e67dd"
      },
      "execution_count": null,
      "outputs": [
        {
          "output_type": "execute_result",
          "data": {
            "text/plain": [
              "2m2    6\n",
              "4m2    2\n",
              "5m2    2\n",
              "3m2    1\n",
              "1m2    1\n",
              "Name: Sklep, dtype: int64"
            ]
          },
          "metadata": {},
          "execution_count": 38
        }
      ]
    },
    {
      "cell_type": "code",
      "source": [
        "df['Sklep_ano']= df['Sklep'].apply(lambda x: 1 if pd.notnull(x) else 0)\n",
        "df['Sklep_ano']"
      ],
      "metadata": {
        "colab": {
          "base_uri": "https://localhost:8080/"
        },
        "id": "pNYSWP9lcnb5",
        "outputId": "1d18c30d-e570-44f2-9ec4-83e43c723faf"
      },
      "execution_count": null,
      "outputs": [
        {
          "output_type": "execute_result",
          "data": {
            "text/plain": [
              "0     1\n",
              "1     0\n",
              "2     0\n",
              "3     0\n",
              "4     0\n",
              "     ..\n",
              "95    0\n",
              "96    0\n",
              "97    0\n",
              "98    0\n",
              "99    0\n",
              "Name: Sklep_ano, Length: 100, dtype: int64"
            ]
          },
          "metadata": {},
          "execution_count": 39
        }
      ]
    },
    {
      "cell_type": "code",
      "source": [
        "df['Sklep_ano'].value_counts()"
      ],
      "metadata": {
        "colab": {
          "base_uri": "https://localhost:8080/"
        },
        "id": "jJe9wn-scYoh",
        "outputId": "fc1aa9c2-5692-4920-9e74-565b4d23a264"
      },
      "execution_count": null,
      "outputs": [
        {
          "output_type": "execute_result",
          "data": {
            "text/plain": [
              "0    88\n",
              "1    12\n",
              "Name: Sklep_ano, dtype: int64"
            ]
          },
          "metadata": {},
          "execution_count": 40
        }
      ]
    },
    {
      "cell_type": "code",
      "source": [
        "# Univariate visualizations"
      ],
      "metadata": {
        "id": "Rq9xQs90f_wj"
      },
      "execution_count": null,
      "outputs": []
    },
    {
      "cell_type": "code",
      "source": [
        "price_sorted = df['price'].sort_values().reset_index(drop=True)"
      ],
      "metadata": {
        "id": "iitrXs-53Kub"
      },
      "execution_count": null,
      "outputs": []
    },
    {
      "cell_type": "code",
      "source": [
        "# create a density plot\n",
        "fig, ax = plt.subplots()\n",
        "ax.plot(price_sorted, color='blue')\n",
        "ax.fill_between(price_sorted.index, price_sorted, color='lightblue')\n",
        "\n",
        "# set the x-axis label and title\n",
        "ax.set_xlabel('Each flat for rent')\n",
        "ax.set_ylabel('Rent price')\n",
        "ax.set_title('Density plot of data')\n",
        "\n",
        "plt.show()"
      ],
      "metadata": {
        "colab": {
          "base_uri": "https://localhost:8080/",
          "height": 472
        },
        "id": "JJKixWxF2TNN",
        "outputId": "e351646f-fe08-4685-901a-511a7c2b1d80"
      },
      "execution_count": null,
      "outputs": [
        {
          "output_type": "display_data",
          "data": {
            "text/plain": [
              "<Figure size 640x480 with 1 Axes>"
            ],
            "image/png": "[encoded data removed]"
          },
          "metadata": {}
        }
      ]
    },
    {
      "cell_type": "code",
      "source": [
        "df['price'].hist()"
      ],
      "metadata": {
        "colab": {
          "base_uri": "https://localhost:8080/",
          "height": 448
        },
        "id": "awgKlfSw2OB5",
        "outputId": "cb421a09-cc6e-4069-a6a7-8663f3e1577c"
      },
      "execution_count": null,
      "outputs": [
        {
          "output_type": "execute_result",
          "data": {
            "text/plain": [
              "<Axes: >"
            ]
          },
          "metadata": {},
          "execution_count": 44
        },
        {
          "output_type": "display_data",
          "data": {
            "text/plain": [
              "<Figure size 640x480 with 1 Axes>"
            ],
            "image/png": "[encoded data removed]"
          },
          "metadata": {}
        }
      ]
    },
    {
      "cell_type": "code",
      "source": [
        "df['price'].hist(bins=np.arange(0,40000,5000))"
      ],
      "metadata": {
        "colab": {
          "base_uri": "https://localhost:8080/",
          "height": 448
        },
        "id": "Hs4S8Xx32hv2",
        "outputId": "60191434-8b51-4d3a-8714-ed095e22577c"
      },
      "execution_count": null,
      "outputs": [
        {
          "output_type": "execute_result",
          "data": {
            "text/plain": [
              "<Axes: >"
            ]
          },
          "metadata": {},
          "execution_count": 45
        },
        {
          "output_type": "display_data",
          "data": {
            "text/plain": [
              "<Figure size 640x480 with 1 Axes>"
            ],
            "image/png": "[encoded data removed]"
          },
          "metadata": {}
        }
      ]
    },
    {
      "cell_type": "code",
      "source": [
        "# create a histogram\n",
        "fig, ax = plt.subplots()\n",
        "ax.hist(df['price'], bins=np.arange(0,40000,5000), edgecolor='black')\n",
        "\n",
        "# set the x-axis label and title\n",
        "ax.set_xlabel('Rent price')\n",
        "ax.set_ylabel('Frequency')\n",
        "ax.set_title('Histogram of data')\n",
        "\n",
        "plt.show()"
      ],
      "metadata": {
        "colab": {
          "base_uri": "https://localhost:8080/",
          "height": 472
        },
        "id": "2CO4fd7l36N_",
        "outputId": "e80e3664-cc1e-4d2d-d2b9-46ecef8a6bd1"
      },
      "execution_count": null,
      "outputs": [
        {
          "output_type": "display_data",
          "data": {
            "text/plain": [
              "<Figure size 640x480 with 1 Axes>"
            ],
            "image/png": "[encoded data removed]"
          },
          "metadata": {}
        }
      ]
    },
    {
      "cell_type": "code",
      "source": [
        "# create a box plot\n",
        "fig, ax = plt.subplots()\n",
        "ax.boxplot(df['price'])\n",
        "\n",
        "# set the x-axis label and title\n",
        "ax.set_xlabel('Sample of 100 sreality ads Prague')\n",
        "ax.set_ylabel('Rent price(czk)')\n",
        "ax.set_title('Box plot')\n",
        "\n",
        "plt.show()"
      ],
      "metadata": {
        "colab": {
          "base_uri": "https://localhost:8080/",
          "height": 472
        },
        "id": "s5NCf0Kc4Qn6",
        "outputId": "3883cfb1-5cee-4a81-d43a-59fde621fbfc"
      },
      "execution_count": null,
      "outputs": [
        {
          "output_type": "display_data",
          "data": {
            "text/plain": [
              "<Figure size 640x480 with 1 Axes>"
            ],
            "image/png": "[encoded data removed]"
          },
          "metadata": {}
        }
      ]
    },
    {
      "cell_type": "code",
      "source": [
        "# create a violin plot\n",
        "fig, ax = plt.subplots()\n",
        "ax.violinplot(df['price'], showmeans=False, showmedians=True)\n",
        "\n",
        "# set the x-axis label and title\n",
        "ax.set_xlabel('Sample of 100 sreality ads Prague')\n",
        "ax.set_ylabel('Rent price(czk)')\n",
        "ax.set_title('Violin plot of data by group')\n",
        "\n",
        "plt.show()"
      ],
      "metadata": {
        "colab": {
          "base_uri": "https://localhost:8080/",
          "height": 472
        },
        "id": "AM0qiojQ4bPa",
        "outputId": "4414f552-046b-409a-8568-e7f05deccc31"
      },
      "execution_count": null,
      "outputs": [
        {
          "output_type": "display_data",
          "data": {
            "text/plain": [
              "<Figure size 640x480 with 1 Axes>"
            ],
            "image/png": "[encoded data removed]"
          },
          "metadata": {}
        }
      ]
    },
    {
      "cell_type": "code",
      "source": [
        "df['Sklep_ano'].value_counts()"
      ],
      "metadata": {
        "colab": {
          "base_uri": "https://localhost:8080/"
        },
        "id": "PK-gzpQO44ju",
        "outputId": "4234c260-623d-40a6-e414-6c0dcca8b385"
      },
      "execution_count": null,
      "outputs": [
        {
          "output_type": "execute_result",
          "data": {
            "text/plain": [
              "0    88\n",
              "1    12\n",
              "Name: Sklep_ano, dtype: int64"
            ]
          },
          "metadata": {},
          "execution_count": 49
        }
      ]
    },
    {
      "cell_type": "code",
      "source": [
        "fig, ax = plt.subplots()\n",
        "ax.pie(df['Sklep_ano'].value_counts(), autopct='%1.1f%%')\n",
        "\n",
        "# set the title\n",
        "ax.set_title('Pie chart of flats with cellar')\n",
        "\n",
        "plt.show()"
      ],
      "metadata": {
        "colab": {
          "base_uri": "https://localhost:8080/",
          "height": 428
        },
        "id": "8kMSwAGe5K9T",
        "outputId": "01380733-6906-4a59-a09d-c799bcae38c0"
      },
      "execution_count": null,
      "outputs": [
        {
          "output_type": "display_data",
          "data": {
            "text/plain": [
              "<Figure size 640x480 with 1 Axes>"
            ],
            "image/png": "[encoded data removed]"
          },
          "metadata": {}
        }
      ]
    },
    {
      "cell_type": "code",
      "source": [
        "# create a scatter plot\n",
        "fig, ax = plt.subplots()\n",
        "ax.scatter(df['floor_space'], df['price'])\n",
        "\n",
        "# set the x-axis and y-axis labels and title\n",
        "ax.set_xlabel('floor_space')\n",
        "ax.set_ylabel('price per month(czk)')\n",
        "ax.set_title('Scatter plot of floor space vs. rent price')\n",
        "\n",
        "plt.show()"
      ],
      "metadata": {
        "colab": {
          "base_uri": "https://localhost:8080/",
          "height": 472
        },
        "id": "i_i6FwMy5VSd",
        "outputId": "436c89f5-1fb7-480a-894f-1115e5ed5929"
      },
      "execution_count": null,
      "outputs": [
        {
          "output_type": "display_data",
          "data": {
            "text/plain": [
              "<Figure size 640x480 with 1 Axes>"
            ],
            "image/png": "[encoded data removed]"
          },
          "metadata": {}
        }
      ]
    },
    {
      "cell_type": "markdown",
      "source": [
        "# Aggregation"
      ],
      "metadata": {
        "id": "bQYheVLomc-c"
      }
    },
    {
      "cell_type": "code",
      "source": [
        "# simple aggregation"
      ],
      "metadata": {
        "id": "i2GTLrx2mce6"
      },
      "execution_count": null,
      "outputs": []
    },
    {
      "cell_type": "code",
      "source": [
        "average_price_per_meter = df['price_per_meter2'].mean()\n",
        "average_price_per_meter"
      ],
      "metadata": {
        "colab": {
          "base_uri": "https://localhost:8080/"
        },
        "id": "d_vzROKQmh2R",
        "outputId": "d789dc77-bed8-4747-ffda-e88fe59a96e0"
      },
      "execution_count": null,
      "outputs": [
        {
          "output_type": "execute_result",
          "data": {
            "text/plain": [
              "445.492"
            ]
          },
          "metadata": {},
          "execution_count": 53
        }
      ]
    },
    {
      "cell_type": "code",
      "source": [
        "# Let us assume an flat of 40 square meters \n",
        "# The expected rent is:\n",
        "average_price_per_meter * 40"
      ],
      "metadata": {
        "colab": {
          "base_uri": "https://localhost:8080/"
        },
        "id": "hgrhpbCkmlHL",
        "outputId": "0cedbb0b-e32a-4156-f020-f9914b17d353"
      },
      "execution_count": null,
      "outputs": [
        {
          "output_type": "execute_result",
          "data": {
            "text/plain": [
              "17819.68"
            ]
          },
          "metadata": {},
          "execution_count": 54
        }
      ]
    },
    {
      "cell_type": "code",
      "source": [
        "print(f\"Maximum floor space: {df['floor_space'].max()}\")"
      ],
      "metadata": {
        "colab": {
          "base_uri": "https://localhost:8080/"
        },
        "id": "V937eDc3mypM",
        "outputId": "2300366d-2dea-455a-8dbe-37b27cb501f8"
      },
      "execution_count": null,
      "outputs": [
        {
          "output_type": "stream",
          "name": "stdout",
          "text": [
            "Maximum floor space: 71.0\n"
          ]
        }
      ]
    },
    {
      "cell_type": "code",
      "source": [
        "df['floor_size_category']=pd.cut(df['floor_space'], bins=[0,10,20,30,40,50,60,70,80])\n",
        "df['floor_size_category']"
      ],
      "metadata": {
        "colab": {
          "base_uri": "https://localhost:8080/"
        },
        "id": "CW6TaOhtnP1Q",
        "outputId": "3601985b-33d7-4f64-8c39-33511d6e8a61"
      },
      "execution_count": null,
      "outputs": [
        {
          "output_type": "execute_result",
          "data": {
            "text/plain": [
              "0     (40, 50]\n",
              "1     (30, 40]\n",
              "2     (40, 50]\n",
              "3     (50, 60]\n",
              "4     (40, 50]\n",
              "        ...   \n",
              "95    (60, 70]\n",
              "96    (20, 30]\n",
              "97    (20, 30]\n",
              "98    (50, 60]\n",
              "99    (30, 40]\n",
              "Name: floor_size_category, Length: 100, dtype: category\n",
              "Categories (8, interval[int64, right]): [(0, 10] < (10, 20] < (20, 30] < (30, 40] < (40, 50] <\n",
              "                                         (50, 60] < (60, 70] < (70, 80]]"
            ]
          },
          "metadata": {},
          "execution_count": 56
        }
      ]
    },
    {
      "cell_type": "code",
      "source": [
        "df.groupby('floor_size_category')['price','floor_space'].mean().round(1)"
      ],
      "metadata": {
        "colab": {
          "base_uri": "https://localhost:8080/",
          "height": 368
        },
        "id": "ULIq2GxWnj0i",
        "outputId": "e160e402-8b5c-4695-bc6e-a880c9b9cfde"
      },
      "execution_count": null,
      "outputs": [
        {
          "output_type": "stream",
          "name": "stderr",
          "text": [
            "<ipython-input-57-a9dc76c52cf8>:1: FutureWarning: Indexing with multiple keys (implicitly converted to a tuple of keys) will be deprecated, use a list instead.\n",
            "  df.groupby('floor_size_category')['price','floor_space'].mean().round(1)\n"
          ]
        },
        {
          "output_type": "execute_result",
          "data": {
            "text/plain": [
              "                       price  floor_space\n",
              "floor_size_category                      \n",
              "(0, 10]                  NaN          NaN\n",
              "(10, 20]             18000.0         16.0\n",
              "(20, 30]             13477.9         27.4\n",
              "(30, 40]             17445.0         35.7\n",
              "(40, 50]             19610.1         45.8\n",
              "(50, 60]             21426.9         56.0\n",
              "(60, 70]             24423.1         63.6\n",
              "(70, 80]             25000.0         71.0"
            ],
            "text/html": [
              "\n",
              "  <div id=\"df-4d716f3f-6164-4f1e-8293-79b4cc83c91f\">\n",
              "    <div class=\"colab-df-container\">\n",
              "      <div>\n",
              "<style scoped>\n",
              "    .dataframe tbody tr th:only-of-type {\n",
              "        vertical-align: middle;\n",
              "    }\n",
              "\n",
              "    .dataframe tbody tr th {\n",
              "        vertical-align: top;\n",
              "    }\n",
              "\n",
              "    .dataframe thead th {\n",
              "        text-align: right;\n",
              "    }\n",
              "</style>\n",
              "<table border=\"1\" class=\"dataframe\">\n",
              "  <thead>\n",
              "    <tr style=\"text-align: right;\">\n",
              "      <th></th>\n",
              "      <th>price</th>\n",
              "      <th>floor_space</th>\n",
              "    </tr>\n",
              "    <tr>\n",
              "      <th>floor_size_category</th>\n",
              "      <th></th>\n",
              "      <th></th>\n",
              "    </tr>\n",
              "  </thead>\n",
              "  <tbody>\n",
              "    <tr>\n",
              "      <th>(0, 10]</th>\n",
              "      <td>NaN</td>\n",
              "      <td>NaN</td>\n",
              "    </tr>\n",
              "    <tr>\n",
              "      <th>(10, 20]</th>\n",
              "      <td>18000.0</td>\n",
              "      <td>16.0</td>\n",
              "    </tr>\n",
              "    <tr>\n",
              "      <th>(20, 30]</th>\n",
              "      <td>13477.9</td>\n",
              "      <td>27.4</td>\n",
              "    </tr>\n",
              "    <tr>\n",
              "      <th>(30, 40]</th>\n",
              "      <td>17445.0</td>\n",
              "      <td>35.7</td>\n",
              "    </tr>\n",
              "    <tr>\n",
              "      <th>(40, 50]</th>\n",
              "      <td>19610.1</td>\n",
              "      <td>45.8</td>\n",
              "    </tr>\n",
              "    <tr>\n",
              "      <th>(50, 60]</th>\n",
              "      <td>21426.9</td>\n",
              "      <td>56.0</td>\n",
              "    </tr>\n",
              "    <tr>\n",
              "      <th>(60, 70]</th>\n",
              "      <td>24423.1</td>\n",
              "      <td>63.6</td>\n",
              "    </tr>\n",
              "    <tr>\n",
              "      <th>(70, 80]</th>\n",
              "      <td>25000.0</td>\n",
              "      <td>71.0</td>\n",
              "    </tr>\n",
              "  </tbody>\n",
              "</table>\n",
              "</div>\n",
              "      <button class=\"colab-df-convert\" onclick=\"convertToInteractive('df-4d716f3f-6164-4f1e-8293-79b4cc83c91f')\"\n",
              "              title=\"Convert this dataframe to an interactive table.\"\n",
              "              style=\"display:none;\">\n",
              "        \n",
              "  <svg xmlns=\"http://www.w3.org/2000/svg\" height=\"24px\"viewBox=\"0 0 24 24\"\n",
              "       width=\"24px\">\n",
              "    <path d=\"M0 0h24v24H0V0z\" fill=\"none\"/>\n",
              "    <path d=\"M18.56 5.44l.94 2.06.94-2.06 2.06-.94-2.06-.94-.94-2.06-.94 2.06-2.06.94zm-11 1L8.5 8.5l.94-2.06 2.06-.94-2.06-.94L8.5 2.5l-.94 2.06-2.06.94zm10 10l.94 2.06.94-2.06 2.06-.94-2.06-.94-.94-2.06-.94 2.06-2.06.94z\"/><path d=\"M17.41 7.96l-1.37-1.37c-.4-.4-.92-.59-1.43-.59-.52 0-1.04.2-1.43.59L10.3 9.45l-7.72 7.72c-.78.78-.78 2.05 0 2.83L4 21.41c.39.39.9.59 1.41.59.51 0 1.02-.2 1.41-.59l7.78-7.78 2.81-2.81c.8-.78.8-2.07 0-2.86zM5.41 20L4 18.59l7.72-7.72 1.47 1.35L5.41 20z\"/>\n",
              "  </svg>\n",
              "      </button>\n",
              "      \n",
              "  <style>\n",
              "    .colab-df-container {\n",
              "      display:flex;\n",
              "      flex-wrap:wrap;\n",
              "      gap: 12px;\n",
              "    }\n",
              "\n",
              "    .colab-df-convert {\n",
              "      background-color: #E8F0FE;\n",
              "      border: none;\n",
              "      border-radius: 50%;\n",
              "      cursor: pointer;\n",
              "      display: none;\n",
              "      fill: #1967D2;\n",
              "      height: 32px;\n",
              "      padding: 0 0 0 0;\n",
              "      width: 32px;\n",
              "    }\n",
              "\n",
              "    .colab-df-convert:hover {\n",
              "      background-color: #E2EBFA;\n",
              "      box-shadow: 0px 1px 2px rgba(60, 64, 67, 0.3), 0px 1px 3px 1px rgba(60, 64, 67, 0.15);\n",
              "      fill: #174EA6;\n",
              "    }\n",
              "\n",
              "    [theme=dark] .colab-df-convert {\n",
              "      background-color: #3B4455;\n",
              "      fill: #D2E3FC;\n",
              "    }\n",
              "\n",
              "    [theme=dark] .colab-df-convert:hover {\n",
              "      background-color: #434B5C;\n",
              "      box-shadow: 0px 1px 3px 1px rgba(0, 0, 0, 0.15);\n",
              "      filter: drop-shadow(0px 1px 2px rgba(0, 0, 0, 0.3));\n",
              "      fill: #FFFFFF;\n",
              "    }\n",
              "  </style>\n",
              "\n",
              "      <script>\n",
              "        const buttonEl =\n",
              "          document.querySelector('#df-4d716f3f-6164-4f1e-8293-79b4cc83c91f button.colab-df-convert');\n",
              "        buttonEl.style.display =\n",
              "          google.colab.kernel.accessAllowed ? 'block' : 'none';\n",
              "\n",
              "        async function convertToInteractive(key) {\n",
              "          const element = document.querySelector('#df-4d716f3f-6164-4f1e-8293-79b4cc83c91f');\n",
              "          const dataTable =\n",
              "            await google.colab.kernel.invokeFunction('convertToInteractive',\n",
              "                                                     [key], {});\n",
              "          if (!dataTable) return;\n",
              "\n",
              "          const docLinkHtml = 'Like what you see? Visit the ' +\n",
              "            '<a target=\"_blank\" href=https://colab.research.google.com/notebooks/data_table.ipynb>data table notebook</a>'\n",
              "            + ' to learn more about interactive tables.';\n",
              "          element.innerHTML = '';\n",
              "          dataTable['output_type'] = 'display_data';\n",
              "          await google.colab.output.renderOutput(dataTable, element);\n",
              "          const docLink = document.createElement('div');\n",
              "          docLink.innerHTML = docLinkHtml;\n",
              "          element.appendChild(docLink);\n",
              "        }\n",
              "      </script>\n",
              "    </div>\n",
              "  </div>\n",
              "  "
            ]
          },
          "metadata": {},
          "execution_count": 57
        }
      ]
    },
    {
      "cell_type": "code",
      "source": [
        "df.groupby('floor_size_category')[['price','floor_space']].size().to_frame()"
      ],
      "metadata": {
        "colab": {
          "base_uri": "https://localhost:8080/",
          "height": 332
        },
        "id": "rxWTtVZ-oHU7",
        "outputId": "6cc7c979-4226-44f4-8840-d20e0f601997"
      },
      "execution_count": null,
      "outputs": [
        {
          "output_type": "execute_result",
          "data": {
            "text/plain": [
              "                      0\n",
              "floor_size_category    \n",
              "(0, 10]               0\n",
              "(10, 20]              1\n",
              "(20, 30]             13\n",
              "(30, 40]             24\n",
              "(40, 50]             32\n",
              "(50, 60]             16\n",
              "(60, 70]             13\n",
              "(70, 80]              1"
            ],
            "text/html": [
              "\n",
              "  <div id=\"df-952ed11a-562d-44cd-95a5-4b4527772c1c\">\n",
              "    <div class=\"colab-df-container\">\n",
              "      <div>\n",
              "<style scoped>\n",
              "    .dataframe tbody tr th:only-of-type {\n",
              "        vertical-align: middle;\n",
              "    }\n",
              "\n",
              "    .dataframe tbody tr th {\n",
              "        vertical-align: top;\n",
              "    }\n",
              "\n",
              "    .dataframe thead th {\n",
              "        text-align: right;\n",
              "    }\n",
              "</style>\n",
              "<table border=\"1\" class=\"dataframe\">\n",
              "  <thead>\n",
              "    <tr style=\"text-align: right;\">\n",
              "      <th></th>\n",
              "      <th>0</th>\n",
              "    </tr>\n",
              "    <tr>\n",
              "      <th>floor_size_category</th>\n",
              "      <th></th>\n",
              "    </tr>\n",
              "  </thead>\n",
              "  <tbody>\n",
              "    <tr>\n",
              "      <th>(0, 10]</th>\n",
              "      <td>0</td>\n",
              "    </tr>\n",
              "    <tr>\n",
              "      <th>(10, 20]</th>\n",
              "      <td>1</td>\n",
              "    </tr>\n",
              "    <tr>\n",
              "      <th>(20, 30]</th>\n",
              "      <td>13</td>\n",
              "    </tr>\n",
              "    <tr>\n",
              "      <th>(30, 40]</th>\n",
              "      <td>24</td>\n",
              "    </tr>\n",
              "    <tr>\n",
              "      <th>(40, 50]</th>\n",
              "      <td>32</td>\n",
              "    </tr>\n",
              "    <tr>\n",
              "      <th>(50, 60]</th>\n",
              "      <td>16</td>\n",
              "    </tr>\n",
              "    <tr>\n",
              "      <th>(60, 70]</th>\n",
              "      <td>13</td>\n",
              "    </tr>\n",
              "    <tr>\n",
              "      <th>(70, 80]</th>\n",
              "      <td>1</td>\n",
              "    </tr>\n",
              "  </tbody>\n",
              "</table>\n",
              "</div>\n",
              "      <button class=\"colab-df-convert\" onclick=\"convertToInteractive('df-952ed11a-562d-44cd-95a5-4b4527772c1c')\"\n",
              "              title=\"Convert this dataframe to an interactive table.\"\n",
              "              style=\"display:none;\">\n",
              "        \n",
              "  <svg xmlns=\"http://www.w3.org/2000/svg\" height=\"24px\"viewBox=\"0 0 24 24\"\n",
              "       width=\"24px\">\n",
              "    <path d=\"M0 0h24v24H0V0z\" fill=\"none\"/>\n",
              "    <path d=\"M18.56 5.44l.94 2.06.94-2.06 2.06-.94-2.06-.94-.94-2.06-.94 2.06-2.06.94zm-11 1L8.5 8.5l.94-2.06 2.06-.94-2.06-.94L8.5 2.5l-.94 2.06-2.06.94zm10 10l.94 2.06.94-2.06 2.06-.94-2.06-.94-.94-2.06-.94 2.06-2.06.94z\"/><path d=\"M17.41 7.96l-1.37-1.37c-.4-.4-.92-.59-1.43-.59-.52 0-1.04.2-1.43.59L10.3 9.45l-7.72 7.72c-.78.78-.78 2.05 0 2.83L4 21.41c.39.39.9.59 1.41.59.51 0 1.02-.2 1.41-.59l7.78-7.78 2.81-2.81c.8-.78.8-2.07 0-2.86zM5.41 20L4 18.59l7.72-7.72 1.47 1.35L5.41 20z\"/>\n",
              "  </svg>\n",
              "      </button>\n",
              "      \n",
              "  <style>\n",
              "    .colab-df-container {\n",
              "      display:flex;\n",
              "      flex-wrap:wrap;\n",
              "      gap: 12px;\n",
              "    }\n",
              "\n",
              "    .colab-df-convert {\n",
              "      background-color: #E8F0FE;\n",
              "      border: none;\n",
              "      border-radius: 50%;\n",
              "      cursor: pointer;\n",
              "      display: none;\n",
              "      fill: #1967D2;\n",
              "      height: 32px;\n",
              "      padding: 0 0 0 0;\n",
              "      width: 32px;\n",
              "    }\n",
              "\n",
              "    .colab-df-convert:hover {\n",
              "      background-color: #E2EBFA;\n",
              "      box-shadow: 0px 1px 2px rgba(60, 64, 67, 0.3), 0px 1px 3px 1px rgba(60, 64, 67, 0.15);\n",
              "      fill: #174EA6;\n",
              "    }\n",
              "\n",
              "    [theme=dark] .colab-df-convert {\n",
              "      background-color: #3B4455;\n",
              "      fill: #D2E3FC;\n",
              "    }\n",
              "\n",
              "    [theme=dark] .colab-df-convert:hover {\n",
              "      background-color: #434B5C;\n",
              "      box-shadow: 0px 1px 3px 1px rgba(0, 0, 0, 0.15);\n",
              "      filter: drop-shadow(0px 1px 2px rgba(0, 0, 0, 0.3));\n",
              "      fill: #FFFFFF;\n",
              "    }\n",
              "  </style>\n",
              "\n",
              "      <script>\n",
              "        const buttonEl =\n",
              "          document.querySelector('#df-952ed11a-562d-44cd-95a5-4b4527772c1c button.colab-df-convert');\n",
              "        buttonEl.style.display =\n",
              "          google.colab.kernel.accessAllowed ? 'block' : 'none';\n",
              "\n",
              "        async function convertToInteractive(key) {\n",
              "          const element = document.querySelector('#df-952ed11a-562d-44cd-95a5-4b4527772c1c');\n",
              "          const dataTable =\n",
              "            await google.colab.kernel.invokeFunction('convertToInteractive',\n",
              "                                                     [key], {});\n",
              "          if (!dataTable) return;\n",
              "\n",
              "          const docLinkHtml = 'Like what you see? Visit the ' +\n",
              "            '<a target=\"_blank\" href=https://colab.research.google.com/notebooks/data_table.ipynb>data table notebook</a>'\n",
              "            + ' to learn more about interactive tables.';\n",
              "          element.innerHTML = '';\n",
              "          dataTable['output_type'] = 'display_data';\n",
              "          await google.colab.output.renderOutput(dataTable, element);\n",
              "          const docLink = document.createElement('div');\n",
              "          docLink.innerHTML = docLinkHtml;\n",
              "          element.appendChild(docLink);\n",
              "        }\n",
              "      </script>\n",
              "    </div>\n",
              "  </div>\n",
              "  "
            ]
          },
          "metadata": {},
          "execution_count": 58
        }
      ]
    },
    {
      "cell_type": "markdown",
      "source": [
        "## Extract number of rooms and area"
      ],
      "metadata": {
        "id": "Y83igsm-PfqH"
      }
    },
    {
      "cell_type": "code",
      "source": [
        "df['rooms'] = df['nazev'].apply(lambda x: x.replace(\"\\xa0\",\" \").split(\" \")[2])"
      ],
      "metadata": {
        "id": "O5PNYBnBpgmH"
      },
      "execution_count": null,
      "outputs": []
    },
    {
      "cell_type": "code",
      "source": [
        "# This is not a good code practise to write everything into one line\n",
        "df['area'] = df['nazev'].apply(lambda x: x.replace(\"\\xa0\",\" \").replace(\"Panorama\",\"\").split(\", \")[-1].split(\" -\")[0])"
      ],
      "metadata": {
        "id": "5sW-m_PsP3MT"
      },
      "execution_count": null,
      "outputs": []
    },
    {
      "cell_type": "code",
      "source": [
        "df[df['area'] ==\"Praha\"][['nazev','area']]"
      ],
      "metadata": {
        "colab": {
          "base_uri": "https://localhost:8080/",
          "height": 112
        },
        "id": "8__feCH8QOYc",
        "outputId": "9df80f76-b105-43f1-bdbd-98f912f590f2"
      },
      "execution_count": null,
      "outputs": [
        {
          "output_type": "execute_result",
          "data": {
            "text/plain": [
              "                                                nazev   area\n",
              "48  Pronájem bytu 2+kk 56 m²Pod Školou, Praha - Ko...  Praha\n",
              "91  Pronájem bytu 2+kk 48 m²Kříženeckého náměstí, ...  Praha"
            ],
            "text/html": [
              "\n",
              "  <div id=\"df-7b08025e-243e-4e9c-ade7-317f58c01456\">\n",
              "    <div class=\"colab-df-container\">\n",
              "      <div>\n",
              "<style scoped>\n",
              "    .dataframe tbody tr th:only-of-type {\n",
              "        vertical-align: middle;\n",
              "    }\n",
              "\n",
              "    .dataframe tbody tr th {\n",
              "        vertical-align: top;\n",
              "    }\n",
              "\n",
              "    .dataframe thead th {\n",
              "        text-align: right;\n",
              "    }\n",
              "</style>\n",
              "<table border=\"1\" class=\"dataframe\">\n",
              "  <thead>\n",
              "    <tr style=\"text-align: right;\">\n",
              "      <th></th>\n",
              "      <th>nazev</th>\n",
              "      <th>area</th>\n",
              "    </tr>\n",
              "  </thead>\n",
              "  <tbody>\n",
              "    <tr>\n",
              "      <th>48</th>\n",
              "      <td>Pronájem bytu 2+kk 56 m²Pod Školou, Praha - Ko...</td>\n",
              "      <td>Praha</td>\n",
              "    </tr>\n",
              "    <tr>\n",
              "      <th>91</th>\n",
              "      <td>Pronájem bytu 2+kk 48 m²Kříženeckého náměstí, ...</td>\n",
              "      <td>Praha</td>\n",
              "    </tr>\n",
              "  </tbody>\n",
              "</table>\n",
              "</div>\n",
              "      <button class=\"colab-df-convert\" onclick=\"convertToInteractive('df-7b08025e-243e-4e9c-ade7-317f58c01456')\"\n",
              "              title=\"Convert this dataframe to an interactive table.\"\n",
              "              style=\"display:none;\">\n",
              "        \n",
              "  <svg xmlns=\"http://www.w3.org/2000/svg\" height=\"24px\"viewBox=\"0 0 24 24\"\n",
              "       width=\"24px\">\n",
              "    <path d=\"M0 0h24v24H0V0z\" fill=\"none\"/>\n",
              "    <path d=\"M18.56 5.44l.94 2.06.94-2.06 2.06-.94-2.06-.94-.94-2.06-.94 2.06-2.06.94zm-11 1L8.5 8.5l.94-2.06 2.06-.94-2.06-.94L8.5 2.5l-.94 2.06-2.06.94zm10 10l.94 2.06.94-2.06 2.06-.94-2.06-.94-.94-2.06-.94 2.06-2.06.94z\"/><path d=\"M17.41 7.96l-1.37-1.37c-.4-.4-.92-.59-1.43-.59-.52 0-1.04.2-1.43.59L10.3 9.45l-7.72 7.72c-.78.78-.78 2.05 0 2.83L4 21.41c.39.39.9.59 1.41.59.51 0 1.02-.2 1.41-.59l7.78-7.78 2.81-2.81c.8-.78.8-2.07 0-2.86zM5.41 20L4 18.59l7.72-7.72 1.47 1.35L5.41 20z\"/>\n",
              "  </svg>\n",
              "      </button>\n",
              "      \n",
              "  <style>\n",
              "    .colab-df-container {\n",
              "      display:flex;\n",
              "      flex-wrap:wrap;\n",
              "      gap: 12px;\n",
              "    }\n",
              "\n",
              "    .colab-df-convert {\n",
              "      background-color: #E8F0FE;\n",
              "      border: none;\n",
              "      border-radius: 50%;\n",
              "      cursor: pointer;\n",
              "      display: none;\n",
              "      fill: #1967D2;\n",
              "      height: 32px;\n",
              "      padding: 0 0 0 0;\n",
              "      width: 32px;\n",
              "    }\n",
              "\n",
              "    .colab-df-convert:hover {\n",
              "      background-color: #E2EBFA;\n",
              "      box-shadow: 0px 1px 2px rgba(60, 64, 67, 0.3), 0px 1px 3px 1px rgba(60, 64, 67, 0.15);\n",
              "      fill: #174EA6;\n",
              "    }\n",
              "\n",
              "    [theme=dark] .colab-df-convert {\n",
              "      background-color: #3B4455;\n",
              "      fill: #D2E3FC;\n",
              "    }\n",
              "\n",
              "    [theme=dark] .colab-df-convert:hover {\n",
              "      background-color: #434B5C;\n",
              "      box-shadow: 0px 1px 3px 1px rgba(0, 0, 0, 0.15);\n",
              "      filter: drop-shadow(0px 1px 2px rgba(0, 0, 0, 0.3));\n",
              "      fill: #FFFFFF;\n",
              "    }\n",
              "  </style>\n",
              "\n",
              "      <script>\n",
              "        const buttonEl =\n",
              "          document.querySelector('#df-7b08025e-243e-4e9c-ade7-317f58c01456 button.colab-df-convert');\n",
              "        buttonEl.style.display =\n",
              "          google.colab.kernel.accessAllowed ? 'block' : 'none';\n",
              "\n",
              "        async function convertToInteractive(key) {\n",
              "          const element = document.querySelector('#df-7b08025e-243e-4e9c-ade7-317f58c01456');\n",
              "          const dataTable =\n",
              "            await google.colab.kernel.invokeFunction('convertToInteractive',\n",
              "                                                     [key], {});\n",
              "          if (!dataTable) return;\n",
              "\n",
              "          const docLinkHtml = 'Like what you see? Visit the ' +\n",
              "            '<a target=\"_blank\" href=https://colab.research.google.com/notebooks/data_table.ipynb>data table notebook</a>'\n",
              "            + ' to learn more about interactive tables.';\n",
              "          element.innerHTML = '';\n",
              "          dataTable['output_type'] = 'display_data';\n",
              "          await google.colab.output.renderOutput(dataTable, element);\n",
              "          const docLink = document.createElement('div');\n",
              "          docLink.innerHTML = docLinkHtml;\n",
              "          element.appendChild(docLink);\n",
              "        }\n",
              "      </script>\n",
              "    </div>\n",
              "  </div>\n",
              "  "
            ]
          },
          "metadata": {},
          "execution_count": 61
        }
      ]
    },
    {
      "cell_type": "code",
      "source": [
        "df.area.value_counts()"
      ],
      "metadata": {
        "colab": {
          "base_uri": "https://localhost:8080/"
        },
        "id": "St7ybTtbRVpq",
        "outputId": "29ebed6d-1d51-49c1-eeec-b52a35d966dd"
      },
      "execution_count": null,
      "outputs": [
        {
          "output_type": "execute_result",
          "data": {
            "text/plain": [
              "Praha 2                             17\n",
              "Praha 4                             14\n",
              "Praha 10                            12\n",
              "Praha 8                             10\n",
              "Praha 9                             10\n",
              "Praha 5                             10\n",
              "Praha 6                              8\n",
              "Praha 3                              7\n",
              "Praha 1                              6\n",
              "Praha 7                              3\n",
              "Praha                                2\n",
              "Pronájem bytu 1+kk 30 m²Praha 10     1\n",
              "Name: area, dtype: int64"
            ]
          },
          "metadata": {},
          "execution_count": 62
        }
      ]
    },
    {
      "cell_type": "code",
      "source": [
        "df[df['area']=='Pronájem bytu 1+kk 30 m²Praha 10']"
      ],
      "metadata": {
        "colab": {
          "base_uri": "https://localhost:8080/",
          "height": 189
        },
        "id": "kglgKlHIRnMY",
        "outputId": "1f11a648-87b1-49b0-bf70-075142e9f75d"
      },
      "execution_count": null,
      "outputs": [
        {
          "output_type": "execute_result",
          "data": {
            "text/plain": [
              "    Unnamed: 0                                         nazev  \\\n",
              "82          82  Pronájem bytu 1+kk 30 m²Praha 10 - Pitkovice   \n",
              "\n",
              "                  cena                                              odkaz  \\\n",
              "82  11 013 Kč za měsíc  https://www.sreality.cz/detail/pronajem/byt/1+...   \n",
              "\n",
              "          Celková cena Poznámka k ceně ID zakázky Aktualizace   Stavba  \\\n",
              "82  11 013 Kč za měsíc             NaN  9689/2918        Dnes  Cihlová   \n",
              "\n",
              "   Stav objektu  ... Cena Datum ukončení výstavby  Plocha bazénu  price  \\\n",
              "82   Novostavba  ...  NaN                     NaN            NaN  11013   \n",
              "\n",
              "   price_per_meter2 price_per_meter2_z_score Sklep_ano floor_size_category  \\\n",
              "82            367.1                -0.518984         0            (20, 30]   \n",
              "\n",
              "    rooms                              area  \n",
              "82   1+kk  Pronájem bytu 1+kk 30 m²Praha 10  \n",
              "\n",
              "[1 rows x 61 columns]"
            ],
            "text/html": [
              "\n",
              "  <div id=\"df-217516cb-c673-470e-80c4-d221b4b428df\">\n",
              "    <div class=\"colab-df-container\">\n",
              "      <div>\n",
              "<style scoped>\n",
              "    .dataframe tbody tr th:only-of-type {\n",
              "        vertical-align: middle;\n",
              "    }\n",
              "\n",
              "    .dataframe tbody tr th {\n",
              "        vertical-align: top;\n",
              "    }\n",
              "\n",
              "    .dataframe thead th {\n",
              "        text-align: right;\n",
              "    }\n",
              "</style>\n",
              "<table border=\"1\" class=\"dataframe\">\n",
              "  <thead>\n",
              "    <tr style=\"text-align: right;\">\n",
              "      <th></th>\n",
              "      <th>Unnamed: 0</th>\n",
              "      <th>nazev</th>\n",
              "      <th>cena</th>\n",
              "      <th>odkaz</th>\n",
              "      <th>Celková cena</th>\n",
              "      <th>Poznámka k ceně</th>\n",
              "      <th>ID zakázky</th>\n",
              "      <th>Aktualizace</th>\n",
              "      <th>Stavba</th>\n",
              "      <th>Stav objektu</th>\n",
              "      <th>...</th>\n",
              "      <th>Cena</th>\n",
              "      <th>Datum ukončení výstavby</th>\n",
              "      <th>Plocha bazénu</th>\n",
              "      <th>price</th>\n",
              "      <th>price_per_meter2</th>\n",
              "      <th>price_per_meter2_z_score</th>\n",
              "      <th>Sklep_ano</th>\n",
              "      <th>floor_size_category</th>\n",
              "      <th>rooms</th>\n",
              "      <th>area</th>\n",
              "    </tr>\n",
              "  </thead>\n",
              "  <tbody>\n",
              "    <tr>\n",
              "      <th>82</th>\n",
              "      <td>82</td>\n",
              "      <td>Pronájem bytu 1+kk 30 m²Praha 10 - Pitkovice</td>\n",
              "      <td>11 013 Kč za měsíc</td>\n",
              "      <td>https://www.sreality.cz/detail/pronajem/byt/1+...</td>\n",
              "      <td>11 013 Kč za měsíc</td>\n",
              "      <td>NaN</td>\n",
              "      <td>9689/2918</td>\n",
              "      <td>Dnes</td>\n",
              "      <td>Cihlová</td>\n",
              "      <td>Novostavba</td>\n",
              "      <td>...</td>\n",
              "      <td>NaN</td>\n",
              "      <td>NaN</td>\n",
              "      <td>NaN</td>\n",
              "      <td>11013</td>\n",
              "      <td>367.1</td>\n",
              "      <td>-0.518984</td>\n",
              "      <td>0</td>\n",
              "      <td>(20, 30]</td>\n",
              "      <td>1+kk</td>\n",
              "      <td>Pronájem bytu 1+kk 30 m²Praha 10</td>\n",
              "    </tr>\n",
              "  </tbody>\n",
              "</table>\n",
              "<p>1 rows × 61 columns</p>\n",
              "</div>\n",
              "      <button class=\"colab-df-convert\" onclick=\"convertToInteractive('df-217516cb-c673-470e-80c4-d221b4b428df')\"\n",
              "              title=\"Convert this dataframe to an interactive table.\"\n",
              "              style=\"display:none;\">\n",
              "        \n",
              "  <svg xmlns=\"http://www.w3.org/2000/svg\" height=\"24px\"viewBox=\"0 0 24 24\"\n",
              "       width=\"24px\">\n",
              "    <path d=\"M0 0h24v24H0V0z\" fill=\"none\"/>\n",
              "    <path d=\"M18.56 5.44l.94 2.06.94-2.06 2.06-.94-2.06-.94-.94-2.06-.94 2.06-2.06.94zm-11 1L8.5 8.5l.94-2.06 2.06-.94-2.06-.94L8.5 2.5l-.94 2.06-2.06.94zm10 10l.94 2.06.94-2.06 2.06-.94-2.06-.94-.94-2.06-.94 2.06-2.06.94z\"/><path d=\"M17.41 7.96l-1.37-1.37c-.4-.4-.92-.59-1.43-.59-.52 0-1.04.2-1.43.59L10.3 9.45l-7.72 7.72c-.78.78-.78 2.05 0 2.83L4 21.41c.39.39.9.59 1.41.59.51 0 1.02-.2 1.41-.59l7.78-7.78 2.81-2.81c.8-.78.8-2.07 0-2.86zM5.41 20L4 18.59l7.72-7.72 1.47 1.35L5.41 20z\"/>\n",
              "  </svg>\n",
              "      </button>\n",
              "      \n",
              "  <style>\n",
              "    .colab-df-container {\n",
              "      display:flex;\n",
              "      flex-wrap:wrap;\n",
              "      gap: 12px;\n",
              "    }\n",
              "\n",
              "    .colab-df-convert {\n",
              "      background-color: #E8F0FE;\n",
              "      border: none;\n",
              "      border-radius: 50%;\n",
              "      cursor: pointer;\n",
              "      display: none;\n",
              "      fill: #1967D2;\n",
              "      height: 32px;\n",
              "      padding: 0 0 0 0;\n",
              "      width: 32px;\n",
              "    }\n",
              "\n",
              "    .colab-df-convert:hover {\n",
              "      background-color: #E2EBFA;\n",
              "      box-shadow: 0px 1px 2px rgba(60, 64, 67, 0.3), 0px 1px 3px 1px rgba(60, 64, 67, 0.15);\n",
              "      fill: #174EA6;\n",
              "    }\n",
              "\n",
              "    [theme=dark] .colab-df-convert {\n",
              "      background-color: #3B4455;\n",
              "      fill: #D2E3FC;\n",
              "    }\n",
              "\n",
              "    [theme=dark] .colab-df-convert:hover {\n",
              "      background-color: #434B5C;\n",
              "      box-shadow: 0px 1px 3px 1px rgba(0, 0, 0, 0.15);\n",
              "      filter: drop-shadow(0px 1px 2px rgba(0, 0, 0, 0.3));\n",
              "      fill: #FFFFFF;\n",
              "    }\n",
              "  </style>\n",
              "\n",
              "      <script>\n",
              "        const buttonEl =\n",
              "          document.querySelector('#df-217516cb-c673-470e-80c4-d221b4b428df button.colab-df-convert');\n",
              "        buttonEl.style.display =\n",
              "          google.colab.kernel.accessAllowed ? 'block' : 'none';\n",
              "\n",
              "        async function convertToInteractive(key) {\n",
              "          const element = document.querySelector('#df-217516cb-c673-470e-80c4-d221b4b428df');\n",
              "          const dataTable =\n",
              "            await google.colab.kernel.invokeFunction('convertToInteractive',\n",
              "                                                     [key], {});\n",
              "          if (!dataTable) return;\n",
              "\n",
              "          const docLinkHtml = 'Like what you see? Visit the ' +\n",
              "            '<a target=\"_blank\" href=https://colab.research.google.com/notebooks/data_table.ipynb>data table notebook</a>'\n",
              "            + ' to learn more about interactive tables.';\n",
              "          element.innerHTML = '';\n",
              "          dataTable['output_type'] = 'display_data';\n",
              "          await google.colab.output.renderOutput(dataTable, element);\n",
              "          const docLink = document.createElement('div');\n",
              "          docLink.innerHTML = docLinkHtml;\n",
              "          element.appendChild(docLink);\n",
              "        }\n",
              "      </script>\n",
              "    </div>\n",
              "  </div>\n",
              "  "
            ]
          },
          "metadata": {},
          "execution_count": 63
        }
      ]
    },
    {
      "cell_type": "markdown",
      "source": [
        "## Aggregation per 2 levels"
      ],
      "metadata": {
        "id": "s6qlHuesTZ1M"
      }
    },
    {
      "cell_type": "code",
      "source": [
        "df.groupby(['area','rooms'])[['price','floor_space']].mean().round(1)"
      ],
      "metadata": {
        "colab": {
          "base_uri": "https://localhost:8080/",
          "height": 1000
        },
        "id": "PZQoL_qjRseM",
        "outputId": "6a5fe2ef-90f4-4fea-dba4-27f1a444e415"
      },
      "execution_count": null,
      "outputs": [
        {
          "output_type": "execute_result",
          "data": {
            "text/plain": [
              "                                             price  floor_space\n",
              "area                             rooms                         \n",
              "Praha                            2+kk      15500.0         52.0\n",
              "Praha 1                          1+kk      18000.0         16.0\n",
              "                                 2+1       25000.0         71.0\n",
              "                                 2+kk      27078.3         52.3\n",
              "                                 3+kk      31900.0         65.0\n",
              "Praha 10                         1+kk      12741.4         28.6\n",
              "                                 2+1       18500.0         50.0\n",
              "                                 2+kk      21900.0         53.5\n",
              "Praha 2                          1+1       25000.0         40.0\n",
              "                                 1+kk      24608.0         36.8\n",
              "                                 2+1       15750.0         46.0\n",
              "                                 2+kk      21971.4         46.1\n",
              "                                 3+kk      30000.0         61.0\n",
              "Praha 3                          1+kk      12450.0         30.0\n",
              "                                 2+kk      22860.0         52.6\n",
              "Praha 4                          1+kk      15920.0         34.4\n",
              "                                 2+1       18500.0         56.0\n",
              "                                 2+kk      17470.0         52.7\n",
              "                                 atypické  29500.0         63.0\n",
              "Praha 5                          1+1       24000.0         39.0\n",
              "                                 1+kk      32000.0         30.0\n",
              "                                 2+kk      19200.0         46.9\n",
              "Praha 6                          1+kk      12375.0         31.2\n",
              "                                 2+1       18500.0         53.8\n",
              "Praha 7                          1+kk      17000.0         42.0\n",
              "                                 2+kk      19449.5         59.0\n",
              "Praha 8                          1+1       16500.0         42.0\n",
              "                                 1+kk      16660.0         37.4\n",
              "                                 2+kk      22466.7         58.3\n",
              "Praha 9                          1+kk      14038.0         35.2\n",
              "                                 2+1       17900.0         58.0\n",
              "                                 2+kk      19998.7         53.7\n",
              "                                 3+kk      22900.0         58.0\n",
              "Pronájem bytu 1+kk 30 m²Praha 10 1+kk      11013.0         30.0"
            ],
            "text/html": [
              "\n",
              "  <div id=\"df-a0d0a89b-94fe-4b08-9349-f18f487340ae\">\n",
              "    <div class=\"colab-df-container\">\n",
              "      <div>\n",
              "<style scoped>\n",
              "    .dataframe tbody tr th:only-of-type {\n",
              "        vertical-align: middle;\n",
              "    }\n",
              "\n",
              "    .dataframe tbody tr th {\n",
              "        vertical-align: top;\n",
              "    }\n",
              "\n",
              "    .dataframe thead th {\n",
              "        text-align: right;\n",
              "    }\n",
              "</style>\n",
              "<table border=\"1\" class=\"dataframe\">\n",
              "  <thead>\n",
              "    <tr style=\"text-align: right;\">\n",
              "      <th></th>\n",
              "      <th></th>\n",
              "      <th>price</th>\n",
              "      <th>floor_space</th>\n",
              "    </tr>\n",
              "    <tr>\n",
              "      <th>area</th>\n",
              "      <th>rooms</th>\n",
              "      <th></th>\n",
              "      <th></th>\n",
              "    </tr>\n",
              "  </thead>\n",
              "  <tbody>\n",
              "    <tr>\n",
              "      <th>Praha</th>\n",
              "      <th>2+kk</th>\n",
              "      <td>15500.0</td>\n",
              "      <td>52.0</td>\n",
              "    </tr>\n",
              "    <tr>\n",
              "      <th rowspan=\"4\" valign=\"top\">Praha 1</th>\n",
              "      <th>1+kk</th>\n",
              "      <td>18000.0</td>\n",
              "      <td>16.0</td>\n",
              "    </tr>\n",
              "    <tr>\n",
              "      <th>2+1</th>\n",
              "      <td>25000.0</td>\n",
              "      <td>71.0</td>\n",
              "    </tr>\n",
              "    <tr>\n",
              "      <th>2+kk</th>\n",
              "      <td>27078.3</td>\n",
              "      <td>52.3</td>\n",
              "    </tr>\n",
              "    <tr>\n",
              "      <th>3+kk</th>\n",
              "      <td>31900.0</td>\n",
              "      <td>65.0</td>\n",
              "    </tr>\n",
              "    <tr>\n",
              "      <th rowspan=\"3\" valign=\"top\">Praha 10</th>\n",
              "      <th>1+kk</th>\n",
              "      <td>12741.4</td>\n",
              "      <td>28.6</td>\n",
              "    </tr>\n",
              "    <tr>\n",
              "      <th>2+1</th>\n",
              "      <td>18500.0</td>\n",
              "      <td>50.0</td>\n",
              "    </tr>\n",
              "    <tr>\n",
              "      <th>2+kk</th>\n",
              "      <td>21900.0</td>\n",
              "      <td>53.5</td>\n",
              "    </tr>\n",
              "    <tr>\n",
              "      <th rowspan=\"5\" valign=\"top\">Praha 2</th>\n",
              "      <th>1+1</th>\n",
              "      <td>25000.0</td>\n",
              "      <td>40.0</td>\n",
              "    </tr>\n",
              "    <tr>\n",
              "      <th>1+kk</th>\n",
              "      <td>24608.0</td>\n",
              "      <td>36.8</td>\n",
              "    </tr>\n",
              "    <tr>\n",
              "      <th>2+1</th>\n",
              "      <td>15750.0</td>\n",
              "      <td>46.0</td>\n",
              "    </tr>\n",
              "    <tr>\n",
              "      <th>2+kk</th>\n",
              "      <td>21971.4</td>\n",
              "      <td>46.1</td>\n",
              "    </tr>\n",
              "    <tr>\n",
              "      <th>3+kk</th>\n",
              "      <td>30000.0</td>\n",
              "      <td>61.0</td>\n",
              "    </tr>\n",
              "    <tr>\n",
              "      <th rowspan=\"2\" valign=\"top\">Praha 3</th>\n",
              "      <th>1+kk</th>\n",
              "      <td>12450.0</td>\n",
              "      <td>30.0</td>\n",
              "    </tr>\n",
              "    <tr>\n",
              "      <th>2+kk</th>\n",
              "      <td>22860.0</td>\n",
              "      <td>52.6</td>\n",
              "    </tr>\n",
              "    <tr>\n",
              "      <th rowspan=\"4\" valign=\"top\">Praha 4</th>\n",
              "      <th>1+kk</th>\n",
              "      <td>15920.0</td>\n",
              "      <td>34.4</td>\n",
              "    </tr>\n",
              "    <tr>\n",
              "      <th>2+1</th>\n",
              "      <td>18500.0</td>\n",
              "      <td>56.0</td>\n",
              "    </tr>\n",
              "    <tr>\n",
              "      <th>2+kk</th>\n",
              "      <td>17470.0</td>\n",
              "      <td>52.7</td>\n",
              "    </tr>\n",
              "    <tr>\n",
              "      <th>atypické</th>\n",
              "      <td>29500.0</td>\n",
              "      <td>63.0</td>\n",
              "    </tr>\n",
              "    <tr>\n",
              "      <th rowspan=\"3\" valign=\"top\">Praha 5</th>\n",
              "      <th>1+1</th>\n",
              "      <td>24000.0</td>\n",
              "      <td>39.0</td>\n",
              "    </tr>\n",
              "    <tr>\n",
              "      <th>1+kk</th>\n",
              "      <td>32000.0</td>\n",
              "      <td>30.0</td>\n",
              "    </tr>\n",
              "    <tr>\n",
              "      <th>2+kk</th>\n",
              "      <td>19200.0</td>\n",
              "      <td>46.9</td>\n",
              "    </tr>\n",
              "    <tr>\n",
              "      <th rowspan=\"2\" valign=\"top\">Praha 6</th>\n",
              "      <th>1+kk</th>\n",
              "      <td>12375.0</td>\n",
              "      <td>31.2</td>\n",
              "    </tr>\n",
              "    <tr>\n",
              "      <th>2+1</th>\n",
              "      <td>18500.0</td>\n",
              "      <td>53.8</td>\n",
              "    </tr>\n",
              "    <tr>\n",
              "      <th rowspan=\"2\" valign=\"top\">Praha 7</th>\n",
              "      <th>1+kk</th>\n",
              "      <td>17000.0</td>\n",
              "      <td>42.0</td>\n",
              "    </tr>\n",
              "    <tr>\n",
              "      <th>2+kk</th>\n",
              "      <td>19449.5</td>\n",
              "      <td>59.0</td>\n",
              "    </tr>\n",
              "    <tr>\n",
              "      <th rowspan=\"3\" valign=\"top\">Praha 8</th>\n",
              "      <th>1+1</th>\n",
              "      <td>16500.0</td>\n",
              "      <td>42.0</td>\n",
              "    </tr>\n",
              "    <tr>\n",
              "      <th>1+kk</th>\n",
              "      <td>16660.0</td>\n",
              "      <td>37.4</td>\n",
              "    </tr>\n",
              "    <tr>\n",
              "      <th>2+kk</th>\n",
              "      <td>22466.7</td>\n",
              "      <td>58.3</td>\n",
              "    </tr>\n",
              "    <tr>\n",
              "      <th rowspan=\"4\" valign=\"top\">Praha 9</th>\n",
              "      <th>1+kk</th>\n",
              "      <td>14038.0</td>\n",
              "      <td>35.2</td>\n",
              "    </tr>\n",
              "    <tr>\n",
              "      <th>2+1</th>\n",
              "      <td>17900.0</td>\n",
              "      <td>58.0</td>\n",
              "    </tr>\n",
              "    <tr>\n",
              "      <th>2+kk</th>\n",
              "      <td>19998.7</td>\n",
              "      <td>53.7</td>\n",
              "    </tr>\n",
              "    <tr>\n",
              "      <th>3+kk</th>\n",
              "      <td>22900.0</td>\n",
              "      <td>58.0</td>\n",
              "    </tr>\n",
              "    <tr>\n",
              "      <th>Pronájem bytu 1+kk 30 m²Praha 10</th>\n",
              "      <th>1+kk</th>\n",
              "      <td>11013.0</td>\n",
              "      <td>30.0</td>\n",
              "    </tr>\n",
              "  </tbody>\n",
              "</table>\n",
              "</div>\n",
              "      <button class=\"colab-df-convert\" onclick=\"convertToInteractive('df-a0d0a89b-94fe-4b08-9349-f18f487340ae')\"\n",
              "              title=\"Convert this dataframe to an interactive table.\"\n",
              "              style=\"display:none;\">\n",
              "        \n",
              "  <svg xmlns=\"http://www.w3.org/2000/svg\" height=\"24px\"viewBox=\"0 0 24 24\"\n",
              "       width=\"24px\">\n",
              "    <path d=\"M0 0h24v24H0V0z\" fill=\"none\"/>\n",
              "    <path d=\"M18.56 5.44l.94 2.06.94-2.06 2.06-.94-2.06-.94-.94-2.06-.94 2.06-2.06.94zm-11 1L8.5 8.5l.94-2.06 2.06-.94-2.06-.94L8.5 2.5l-.94 2.06-2.06.94zm10 10l.94 2.06.94-2.06 2.06-.94-2.06-.94-.94-2.06-.94 2.06-2.06.94z\"/><path d=\"M17.41 7.96l-1.37-1.37c-.4-.4-.92-.59-1.43-.59-.52 0-1.04.2-1.43.59L10.3 9.45l-7.72 7.72c-.78.78-.78 2.05 0 2.83L4 21.41c.39.39.9.59 1.41.59.51 0 1.02-.2 1.41-.59l7.78-7.78 2.81-2.81c.8-.78.8-2.07 0-2.86zM5.41 20L4 18.59l7.72-7.72 1.47 1.35L5.41 20z\"/>\n",
              "  </svg>\n",
              "      </button>\n",
              "      \n",
              "  <style>\n",
              "    .colab-df-container {\n",
              "      display:flex;\n",
              "      flex-wrap:wrap;\n",
              "      gap: 12px;\n",
              "    }\n",
              "\n",
              "    .colab-df-convert {\n",
              "      background-color: #E8F0FE;\n",
              "      border: none;\n",
              "      border-radius: 50%;\n",
              "      cursor: pointer;\n",
              "      display: none;\n",
              "      fill: #1967D2;\n",
              "      height: 32px;\n",
              "      padding: 0 0 0 0;\n",
              "      width: 32px;\n",
              "    }\n",
              "\n",
              "    .colab-df-convert:hover {\n",
              "      background-color: #E2EBFA;\n",
              "      box-shadow: 0px 1px 2px rgba(60, 64, 67, 0.3), 0px 1px 3px 1px rgba(60, 64, 67, 0.15);\n",
              "      fill: #174EA6;\n",
              "    }\n",
              "\n",
              "    [theme=dark] .colab-df-convert {\n",
              "      background-color: #3B4455;\n",
              "      fill: #D2E3FC;\n",
              "    }\n",
              "\n",
              "    [theme=dark] .colab-df-convert:hover {\n",
              "      background-color: #434B5C;\n",
              "      box-shadow: 0px 1px 3px 1px rgba(0, 0, 0, 0.15);\n",
              "      filter: drop-shadow(0px 1px 2px rgba(0, 0, 0, 0.3));\n",
              "      fill: #FFFFFF;\n",
              "    }\n",
              "  </style>\n",
              "\n",
              "      <script>\n",
              "        const buttonEl =\n",
              "          document.querySelector('#df-a0d0a89b-94fe-4b08-9349-f18f487340ae button.colab-df-convert');\n",
              "        buttonEl.style.display =\n",
              "          google.colab.kernel.accessAllowed ? 'block' : 'none';\n",
              "\n",
              "        async function convertToInteractive(key) {\n",
              "          const element = document.querySelector('#df-a0d0a89b-94fe-4b08-9349-f18f487340ae');\n",
              "          const dataTable =\n",
              "            await google.colab.kernel.invokeFunction('convertToInteractive',\n",
              "                                                     [key], {});\n",
              "          if (!dataTable) return;\n",
              "\n",
              "          const docLinkHtml = 'Like what you see? Visit the ' +\n",
              "            '<a target=\"_blank\" href=https://colab.research.google.com/notebooks/data_table.ipynb>data table notebook</a>'\n",
              "            + ' to learn more about interactive tables.';\n",
              "          element.innerHTML = '';\n",
              "          dataTable['output_type'] = 'display_data';\n",
              "          await google.colab.output.renderOutput(dataTable, element);\n",
              "          const docLink = document.createElement('div');\n",
              "          docLink.innerHTML = docLinkHtml;\n",
              "          element.appendChild(docLink);\n",
              "        }\n",
              "      </script>\n",
              "    </div>\n",
              "  </div>\n",
              "  "
            ]
          },
          "metadata": {},
          "execution_count": 64
        }
      ]
    },
    {
      "cell_type": "markdown",
      "source": [
        "## Aggregate function"
      ],
      "metadata": {
        "id": "WeszDJ4dTfnO"
      }
    },
    {
      "cell_type": "code",
      "source": [
        "df.groupby(['area','rooms']).agg({'price': ['mean', 'min', 'max', 'size']}).round(1)"
      ],
      "metadata": {
        "colab": {
          "base_uri": "https://localhost:8080/",
          "height": 1000
        },
        "id": "FVaEhzm1SGLd",
        "outputId": "4d739a86-a4a3-4b1f-f93c-c98b980e0cb4"
      },
      "execution_count": null,
      "outputs": [
        {
          "output_type": "execute_result",
          "data": {
            "text/plain": [
              "                                             price                   \n",
              "                                              mean    min    max size\n",
              "area                             rooms                               \n",
              "Praha                            2+kk      15500.0  15000  16000    2\n",
              "Praha 1                          1+kk      18000.0  18000  18000    1\n",
              "                                 2+1       25000.0  25000  25000    1\n",
              "                                 2+kk      27078.3  21000  33235    3\n",
              "                                 3+kk      31900.0  31900  31900    1\n",
              "Praha 10                         1+kk      12741.4   9900  20400    7\n",
              "                                 2+1       18500.0  18500  18500    1\n",
              "                                 2+kk      21900.0  14500  28900    4\n",
              "Praha 2                          1+1       25000.0  25000  25000    2\n",
              "                                 1+kk      24608.0  14000  31250    4\n",
              "                                 2+1       15750.0  15500  16000    2\n",
              "                                 2+kk      21971.4  10800  30000    7\n",
              "                                 3+kk      30000.0  30000  30000    2\n",
              "Praha 3                          1+kk      12450.0   9000  15900    2\n",
              "                                 2+kk      22860.0  13900  25200    5\n",
              "Praha 4                          1+kk      15920.0  12500  17900    5\n",
              "                                 2+1       18500.0  18500  18500    1\n",
              "                                 2+kk      17470.0  11000  24500    7\n",
              "                                 atypické  29500.0  29500  29500    1\n",
              "Praha 5                          1+1       24000.0  15000  33000    2\n",
              "                                 1+kk      32000.0  32000  32000    1\n",
              "                                 2+kk      19200.0  15000  27900    7\n",
              "Praha 6                          1+kk      12375.0  10500  14000    4\n",
              "                                 2+1       18500.0  16000  26000    4\n",
              "Praha 7                          1+kk      17000.0  17000  17000    1\n",
              "                                 2+kk      19449.5  18900  19999    2\n",
              "Praha 8                          1+1       16500.0  13500  19500    2\n",
              "                                 1+kk      16660.0  16500  16900    5\n",
              "                                 2+kk      22466.7  18000  26500    3\n",
              "Praha 9                          1+kk      14038.0  11800  15900    5\n",
              "                                 2+1       17900.0  17900  17900    1\n",
              "                                 2+kk      19998.7  16000  24006    3\n",
              "                                 3+kk      22900.0  22900  22900    1\n",
              "Pronájem bytu 1+kk 30 m²Praha 10 1+kk      11013.0  11013  11013    1"
            ],
            "text/html": [
              "\n",
              "  <div id=\"df-927a5968-7e4d-4c2e-80e8-0b72d31d8669\">\n",
              "    <div class=\"colab-df-container\">\n",
              "      <div>\n",
              "<style scoped>\n",
              "    .dataframe tbody tr th:only-of-type {\n",
              "        vertical-align: middle;\n",
              "    }\n",
              "\n",
              "    .dataframe tbody tr th {\n",
              "        vertical-align: top;\n",
              "    }\n",
              "\n",
              "    .dataframe thead tr th {\n",
              "        text-align: left;\n",
              "    }\n",
              "\n",
              "    .dataframe thead tr:last-of-type th {\n",
              "        text-align: right;\n",
              "    }\n",
              "</style>\n",
              "<table border=\"1\" class=\"dataframe\">\n",
              "  <thead>\n",
              "    <tr>\n",
              "      <th></th>\n",
              "      <th></th>\n",
              "      <th colspan=\"4\" halign=\"left\">price</th>\n",
              "    </tr>\n",
              "    <tr>\n",
              "      <th></th>\n",
              "      <th></th>\n",
              "      <th>mean</th>\n",
              "      <th>min</th>\n",
              "      <th>max</th>\n",
              "      <th>size</th>\n",
              "    </tr>\n",
              "    <tr>\n",
              "      <th>area</th>\n",
              "      <th>rooms</th>\n",
              "      <th></th>\n",
              "      <th></th>\n",
              "      <th></th>\n",
              "      <th></th>\n",
              "    </tr>\n",
              "  </thead>\n",
              "  <tbody>\n",
              "    <tr>\n",
              "      <th>Praha</th>\n",
              "      <th>2+kk</th>\n",
              "      <td>15500.0</td>\n",
              "      <td>15000</td>\n",
              "      <td>16000</td>\n",
              "      <td>2</td>\n",
              "    </tr>\n",
              "    <tr>\n",
              "      <th rowspan=\"4\" valign=\"top\">Praha 1</th>\n",
              "      <th>1+kk</th>\n",
              "      <td>18000.0</td>\n",
              "      <td>18000</td>\n",
              "      <td>18000</td>\n",
              "      <td>1</td>\n",
              "    </tr>\n",
              "    <tr>\n",
              "      <th>2+1</th>\n",
              "      <td>25000.0</td>\n",
              "      <td>25000</td>\n",
              "      <td>25000</td>\n",
              "      <td>1</td>\n",
              "    </tr>\n",
              "    <tr>\n",
              "      <th>2+kk</th>\n",
              "      <td>27078.3</td>\n",
              "      <td>21000</td>\n",
              "      <td>33235</td>\n",
              "      <td>3</td>\n",
              "    </tr>\n",
              "    <tr>\n",
              "      <th>3+kk</th>\n",
              "      <td>31900.0</td>\n",
              "      <td>31900</td>\n",
              "      <td>31900</td>\n",
              "      <td>1</td>\n",
              "    </tr>\n",
              "    <tr>\n",
              "      <th rowspan=\"3\" valign=\"top\">Praha 10</th>\n",
              "      <th>1+kk</th>\n",
              "      <td>12741.4</td>\n",
              "      <td>9900</td>\n",
              "      <td>20400</td>\n",
              "      <td>7</td>\n",
              "    </tr>\n",
              "    <tr>\n",
              "      <th>2+1</th>\n",
              "      <td>18500.0</td>\n",
              "      <td>18500</td>\n",
              "      <td>18500</td>\n",
              "      <td>1</td>\n",
              "    </tr>\n",
              "    <tr>\n",
              "      <th>2+kk</th>\n",
              "      <td>21900.0</td>\n",
              "      <td>14500</td>\n",
              "      <td>28900</td>\n",
              "      <td>4</td>\n",
              "    </tr>\n",
              "    <tr>\n",
              "      <th rowspan=\"5\" valign=\"top\">Praha 2</th>\n",
              "      <th>1+1</th>\n",
              "      <td>25000.0</td>\n",
              "      <td>25000</td>\n",
              "      <td>25000</td>\n",
              "      <td>2</td>\n",
              "    </tr>\n",
              "    <tr>\n",
              "      <th>1+kk</th>\n",
              "      <td>24608.0</td>\n",
              "      <td>14000</td>\n",
              "      <td>31250</td>\n",
              "      <td>4</td>\n",
              "    </tr>\n",
              "    <tr>\n",
              "      <th>2+1</th>\n",
              "      <td>15750.0</td>\n",
              "      <td>15500</td>\n",
              "      <td>16000</td>\n",
              "      <td>2</td>\n",
              "    </tr>\n",
              "    <tr>\n",
              "      <th>2+kk</th>\n",
              "      <td>21971.4</td>\n",
              "      <td>10800</td>\n",
              "      <td>30000</td>\n",
              "      <td>7</td>\n",
              "    </tr>\n",
              "    <tr>\n",
              "      <th>3+kk</th>\n",
              "      <td>30000.0</td>\n",
              "      <td>30000</td>\n",
              "      <td>30000</td>\n",
              "      <td>2</td>\n",
              "    </tr>\n",
              "    <tr>\n",
              "      <th rowspan=\"2\" valign=\"top\">Praha 3</th>\n",
              "      <th>1+kk</th>\n",
              "      <td>12450.0</td>\n",
              "      <td>9000</td>\n",
              "      <td>15900</td>\n",
              "      <td>2</td>\n",
              "    </tr>\n",
              "    <tr>\n",
              "      <th>2+kk</th>\n",
              "      <td>22860.0</td>\n",
              "      <td>13900</td>\n",
              "      <td>25200</td>\n",
              "      <td>5</td>\n",
              "    </tr>\n",
              "    <tr>\n",
              "      <th rowspan=\"4\" valign=\"top\">Praha 4</th>\n",
              "      <th>1+kk</th>\n",
              "      <td>15920.0</td>\n",
              "      <td>12500</td>\n",
              "      <td>17900</td>\n",
              "      <td>5</td>\n",
              "    </tr>\n",
              "    <tr>\n",
              "      <th>2+1</th>\n",
              "      <td>18500.0</td>\n",
              "      <td>18500</td>\n",
              "      <td>18500</td>\n",
              "      <td>1</td>\n",
              "    </tr>\n",
              "    <tr>\n",
              "      <th>2+kk</th>\n",
              "      <td>17470.0</td>\n",
              "      <td>11000</td>\n",
              "      <td>24500</td>\n",
              "      <td>7</td>\n",
              "    </tr>\n",
              "    <tr>\n",
              "      <th>atypické</th>\n",
              "      <td>29500.0</td>\n",
              "      <td>29500</td>\n",
              "      <td>29500</td>\n",
              "      <td>1</td>\n",
              "    </tr>\n",
              "    <tr>\n",
              "      <th rowspan=\"3\" valign=\"top\">Praha 5</th>\n",
              "      <th>1+1</th>\n",
              "      <td>24000.0</td>\n",
              "      <td>15000</td>\n",
              "      <td>33000</td>\n",
              "      <td>2</td>\n",
              "    </tr>\n",
              "    <tr>\n",
              "      <th>1+kk</th>\n",
              "      <td>32000.0</td>\n",
              "      <td>32000</td>\n",
              "      <td>32000</td>\n",
              "      <td>1</td>\n",
              "    </tr>\n",
              "    <tr>\n",
              "      <th>2+kk</th>\n",
              "      <td>19200.0</td>\n",
              "      <td>15000</td>\n",
              "      <td>27900</td>\n",
              "      <td>7</td>\n",
              "    </tr>\n",
              "    <tr>\n",
              "      <th rowspan=\"2\" valign=\"top\">Praha 6</th>\n",
              "      <th>1+kk</th>\n",
              "      <td>12375.0</td>\n",
              "      <td>10500</td>\n",
              "      <td>14000</td>\n",
              "      <td>4</td>\n",
              "    </tr>\n",
              "    <tr>\n",
              "      <th>2+1</th>\n",
              "      <td>18500.0</td>\n",
              "      <td>16000</td>\n",
              "      <td>26000</td>\n",
              "      <td>4</td>\n",
              "    </tr>\n",
              "    <tr>\n",
              "      <th rowspan=\"2\" valign=\"top\">Praha 7</th>\n",
              "      <th>1+kk</th>\n",
              "      <td>17000.0</td>\n",
              "      <td>17000</td>\n",
              "      <td>17000</td>\n",
              "      <td>1</td>\n",
              "    </tr>\n",
              "    <tr>\n",
              "      <th>2+kk</th>\n",
              "      <td>19449.5</td>\n",
              "      <td>18900</td>\n",
              "      <td>19999</td>\n",
              "      <td>2</td>\n",
              "    </tr>\n",
              "    <tr>\n",
              "      <th rowspan=\"3\" valign=\"top\">Praha 8</th>\n",
              "      <th>1+1</th>\n",
              "      <td>16500.0</td>\n",
              "      <td>13500</td>\n",
              "      <td>19500</td>\n",
              "      <td>2</td>\n",
              "    </tr>\n",
              "    <tr>\n",
              "      <th>1+kk</th>\n",
              "      <td>16660.0</td>\n",
              "      <td>16500</td>\n",
              "      <td>16900</td>\n",
              "      <td>5</td>\n",
              "    </tr>\n",
              "    <tr>\n",
              "      <th>2+kk</th>\n",
              "      <td>22466.7</td>\n",
              "      <td>18000</td>\n",
              "      <td>26500</td>\n",
              "      <td>3</td>\n",
              "    </tr>\n",
              "    <tr>\n",
              "      <th rowspan=\"4\" valign=\"top\">Praha 9</th>\n",
              "      <th>1+kk</th>\n",
              "      <td>14038.0</td>\n",
              "      <td>11800</td>\n",
              "      <td>15900</td>\n",
              "      <td>5</td>\n",
              "    </tr>\n",
              "    <tr>\n",
              "      <th>2+1</th>\n",
              "      <td>17900.0</td>\n",
              "      <td>17900</td>\n",
              "      <td>17900</td>\n",
              "      <td>1</td>\n",
              "    </tr>\n",
              "    <tr>\n",
              "      <th>2+kk</th>\n",
              "      <td>19998.7</td>\n",
              "      <td>16000</td>\n",
              "      <td>24006</td>\n",
              "      <td>3</td>\n",
              "    </tr>\n",
              "    <tr>\n",
              "      <th>3+kk</th>\n",
              "      <td>22900.0</td>\n",
              "      <td>22900</td>\n",
              "      <td>22900</td>\n",
              "      <td>1</td>\n",
              "    </tr>\n",
              "    <tr>\n",
              "      <th>Pronájem bytu 1+kk 30 m²Praha 10</th>\n",
              "      <th>1+kk</th>\n",
              "      <td>11013.0</td>\n",
              "      <td>11013</td>\n",
              "      <td>11013</td>\n",
              "      <td>1</td>\n",
              "    </tr>\n",
              "  </tbody>\n",
              "</table>\n",
              "</div>\n",
              "      <button class=\"colab-df-convert\" onclick=\"convertToInteractive('df-927a5968-7e4d-4c2e-80e8-0b72d31d8669')\"\n",
              "              title=\"Convert this dataframe to an interactive table.\"\n",
              "              style=\"display:none;\">\n",
              "        \n",
              "  <svg xmlns=\"http://www.w3.org/2000/svg\" height=\"24px\"viewBox=\"0 0 24 24\"\n",
              "       width=\"24px\">\n",
              "    <path d=\"M0 0h24v24H0V0z\" fill=\"none\"/>\n",
              "    <path d=\"M18.56 5.44l.94 2.06.94-2.06 2.06-.94-2.06-.94-.94-2.06-.94 2.06-2.06.94zm-11 1L8.5 8.5l.94-2.06 2.06-.94-2.06-.94L8.5 2.5l-.94 2.06-2.06.94zm10 10l.94 2.06.94-2.06 2.06-.94-2.06-.94-.94-2.06-.94 2.06-2.06.94z\"/><path d=\"M17.41 7.96l-1.37-1.37c-.4-.4-.92-.59-1.43-.59-.52 0-1.04.2-1.43.59L10.3 9.45l-7.72 7.72c-.78.78-.78 2.05 0 2.83L4 21.41c.39.39.9.59 1.41.59.51 0 1.02-.2 1.41-.59l7.78-7.78 2.81-2.81c.8-.78.8-2.07 0-2.86zM5.41 20L4 18.59l7.72-7.72 1.47 1.35L5.41 20z\"/>\n",
              "  </svg>\n",
              "      </button>\n",
              "      \n",
              "  <style>\n",
              "    .colab-df-container {\n",
              "      display:flex;\n",
              "      flex-wrap:wrap;\n",
              "      gap: 12px;\n",
              "    }\n",
              "\n",
              "    .colab-df-convert {\n",
              "      background-color: #E8F0FE;\n",
              "      border: none;\n",
              "      border-radius: 50%;\n",
              "      cursor: pointer;\n",
              "      display: none;\n",
              "      fill: #1967D2;\n",
              "      height: 32px;\n",
              "      padding: 0 0 0 0;\n",
              "      width: 32px;\n",
              "    }\n",
              "\n",
              "    .colab-df-convert:hover {\n",
              "      background-color: #E2EBFA;\n",
              "      box-shadow: 0px 1px 2px rgba(60, 64, 67, 0.3), 0px 1px 3px 1px rgba(60, 64, 67, 0.15);\n",
              "      fill: #174EA6;\n",
              "    }\n",
              "\n",
              "    [theme=dark] .colab-df-convert {\n",
              "      background-color: #3B4455;\n",
              "      fill: #D2E3FC;\n",
              "    }\n",
              "\n",
              "    [theme=dark] .colab-df-convert:hover {\n",
              "      background-color: #434B5C;\n",
              "      box-shadow: 0px 1px 3px 1px rgba(0, 0, 0, 0.15);\n",
              "      filter: drop-shadow(0px 1px 2px rgba(0, 0, 0, 0.3));\n",
              "      fill: #FFFFFF;\n",
              "    }\n",
              "  </style>\n",
              "\n",
              "      <script>\n",
              "        const buttonEl =\n",
              "          document.querySelector('#df-927a5968-7e4d-4c2e-80e8-0b72d31d8669 button.colab-df-convert');\n",
              "        buttonEl.style.display =\n",
              "          google.colab.kernel.accessAllowed ? 'block' : 'none';\n",
              "\n",
              "        async function convertToInteractive(key) {\n",
              "          const element = document.querySelector('#df-927a5968-7e4d-4c2e-80e8-0b72d31d8669');\n",
              "          const dataTable =\n",
              "            await google.colab.kernel.invokeFunction('convertToInteractive',\n",
              "                                                     [key], {});\n",
              "          if (!dataTable) return;\n",
              "\n",
              "          const docLinkHtml = 'Like what you see? Visit the ' +\n",
              "            '<a target=\"_blank\" href=https://colab.research.google.com/notebooks/data_table.ipynb>data table notebook</a>'\n",
              "            + ' to learn more about interactive tables.';\n",
              "          element.innerHTML = '';\n",
              "          dataTable['output_type'] = 'display_data';\n",
              "          await google.colab.output.renderOutput(dataTable, element);\n",
              "          const docLink = document.createElement('div');\n",
              "          docLink.innerHTML = docLinkHtml;\n",
              "          element.appendChild(docLink);\n",
              "        }\n",
              "      </script>\n",
              "    </div>\n",
              "  </div>\n",
              "  "
            ]
          },
          "metadata": {},
          "execution_count": 65
        }
      ]
    }
  ]
}